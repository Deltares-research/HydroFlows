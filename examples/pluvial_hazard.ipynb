{
 "cells": [
  {
   "cell_type": "code",
   "execution_count": null,
   "metadata": {},
   "outputs": [],
   "source": [
    "# Import packages\n",
    "import subprocess\n",
    "from pathlib import Path\n",
    "\n",
    "from hydroflows.methods.rainfall import GetERA5Rainfall, PluvialDesignEvents\n",
    "from hydroflows.methods.sfincs import SfincsRun, SfincsUpdateForcing\n",
    "from hydroflows.utils.example_data import fetch_data\n",
    "from hydroflows.workflow import Workflow, WorkflowConfig\n",
    "\n",
    "# Where the current file is located\n",
    "pwd = Path(__file__).parent\n"
   ]
  },
  {
   "cell_type": "code",
   "execution_count": null,
   "metadata": {},
   "outputs": [],
   "source": [
    "# General setup of workflow\n",
    "# Define variables\n",
    "name = \"pluvial_hazard\"  # for now\n",
    "sfincs_root = Path(\"models/sfincs\")\n",
    "case_root = Path(pwd, \"cases\", name)\n"
   ]
  },
  {
   "cell_type": "code",
   "execution_count": null,
   "metadata": {},
   "outputs": [],
   "source": [
    "# Fetch the global build data (uncomment to fetch data required to run the workflow)\n",
    "fetch_data(data=\"sfincs-model\", output_dir=Path(pwd, \"cases\", name, sfincs_root))\n"
   ]
  },
  {
   "cell_type": "code",
   "execution_count": null,
   "metadata": {},
   "outputs": [],
   "source": [
    "# Setup the config file\n",
    "config = WorkflowConfig(\n",
    "    sfincs_exe=Path(pwd, \"bin/sfincs_v2.1.1/sfincs.exe\"),\n",
    "    sfincs_inp=sfincs_root / \"sfincs.inp\",\n",
    "    sfincs_region=sfincs_root / \"gis\" / \"region.geojson\",\n",
    "    start_date=\"2014-01-01\",\n",
    "    end_date=\"2021-12-31\",\n",
    "    rps=[2, 5, 10],\n",
    ")\n"
   ]
  },
  {
   "cell_type": "code",
   "execution_count": null,
   "metadata": {},
   "outputs": [],
   "source": [
    "# Setup the workflow\n",
    "w = Workflow(config=config, name=name, root=case_root)\n"
   ]
  },
  {
   "cell_type": "code",
   "execution_count": null,
   "metadata": {},
   "outputs": [],
   "source": [
    "# Get precipitation data\n",
    "pluvial_data = GetERA5Rainfall(\n",
    "    region=w.get_ref(\"$config.sfincs_region\"),\n",
    "    data_root=\"data/era5\",\n",
    "    start_date=w.get_ref(\"$config.start_date\"),\n",
    "    end_date=w.get_ref(\"$config.end_date\"),\n",
    ")\n",
    "w.add_rule(pluvial_data, rule_id=\"pluvial_data\")\n"
   ]
  },
  {
   "cell_type": "code",
   "execution_count": null,
   "metadata": {},
   "outputs": [],
   "source": [
    "# Derive pluviual events from precipitation data\n",
    "pluvial_events = PluvialDesignEvents(\n",
    "    precip_nc=pluvial_data.output.precip_nc,\n",
    "    event_root=\"data/events\",\n",
    "    rps=w.get_ref(\"$config.rps\"),\n",
    "    wildcard=\"pluvial_events\",\n",
    ")\n",
    "w.add_rule(pluvial_events, rule_id=\"pluvial_events\")\n"
   ]
  },
  {
   "cell_type": "code",
   "execution_count": null,
   "metadata": {},
   "outputs": [],
   "source": [
    "# Update the sfincs model with pluviual events\n",
    "sfincs_update = SfincsUpdateForcing(\n",
    "    sfincs_inp=w.get_ref(\"$config.sfincs_inp\"),\n",
    "    event_yaml=pluvial_events.output.event_yaml,\n",
    ")\n",
    "w.add_rule(sfincs_update, rule_id=\"sfincs_update\")\n"
   ]
  },
  {
   "cell_type": "code",
   "execution_count": null,
   "metadata": {},
   "outputs": [],
   "source": [
    "# Run the sfincs model\n",
    "sfincs_run = SfincsRun(\n",
    "    sfincs_inp=sfincs_update.output.sfincs_out_inp,\n",
    "    sfincs_exe=w.get_ref(\"$config.sfincs_exe\"),\n",
    ")\n",
    "w.add_rule(sfincs_run, rule_id=\"sfincs_run\")\n"
   ]
  },
  {
   "cell_type": "code",
   "execution_count": null,
   "metadata": {},
   "outputs": [],
   "source": [
    "# run workflow\n",
    "w.dryrun()\n"
   ]
  },
  {
   "cell_type": "code",
   "execution_count": null,
   "metadata": {},
   "outputs": [],
   "source": [
    "# to snakemake\n",
    "w.to_snakemake()\n"
   ]
  },
  {
   "cell_type": "code",
   "execution_count": null,
   "metadata": {},
   "outputs": [],
   "source": [
    "# subprocess to run snakemake\n",
    "subprocess.run([\"snakemake\", \"-n\", \"--rerun-incomplete\"], cwd=w.root)\n",
    "# uncomment to run the workflow\n",
    "# subprocess.run([\"snakemake\", \"-c\", \"1\", \"--rerun-incomplete\"], cwd=w.root)\n"
   ]
  }
 ],
 "metadata": {
  "language_info": {
   "codemirror_mode": {
    "name": "ipython",
    "version": 3
   },
   "file_extension": ".py",
   "mimetype": "text/x-python",
   "name": "python",
   "nbconvert_exporter": "python",
   "pygments_lexer": "ipython3",
   "version": 3
  }
 },
 "nbformat": 4,
 "nbformat_minor": 2
}
