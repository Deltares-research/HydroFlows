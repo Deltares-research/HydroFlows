{
 "cells": [
  {
   "cell_type": "markdown",
   "metadata": {},
   "source": [
    "# Pluvial flood hazard"
   ]
  },
  {
   "cell_type": "code",
   "execution_count": null,
   "metadata": {},
   "outputs": [],
   "source": [
    "# Import packages\n",
    "import subprocess\n",
    "from pathlib import Path\n",
    "\n",
    "from hydroflows import Workflow, WorkflowConfig\n",
    "from hydroflows.log import setuplog\n",
    "from hydroflows.methods import rainfall, sfincs\n",
    "from hydroflows.utils.example_data import fetch_data\n",
    "\n",
    "logger = setuplog(level=\"INFO\")"
   ]
  },
  {
   "cell_type": "code",
   "execution_count": null,
   "metadata": {},
   "outputs": [],
   "source": [
    "# Define case name and root directory\n",
    "name = \"pluvial_hazard\"  # for now\n",
    "pwd = Path().resolve()  # Get the current file location\n",
    "case_root = Path(pwd, \"cases\", name)  # output directory\n"
   ]
  },
  {
   "cell_type": "code",
   "execution_count": null,
   "metadata": {},
   "outputs": [],
   "source": [
    "# Fetch an example sfincs model and store at the output directory\n",
    "sfincs_root = fetch_data(data=\"sfincs-model\", output_dir=Path(pwd, \"cases\", name, \"models\"))"
   ]
  },
  {
   "cell_type": "code",
   "execution_count": null,
   "metadata": {},
   "outputs": [],
   "source": [
    "# Setup the config file\n",
    "config = WorkflowConfig(\n",
    "    sfincs_exe=Path(pwd, \"bin/sfincs_v2.1.1/sfincs.exe\"),\n",
    "    sfincs_inp=sfincs_root / \"sfincs.inp\",\n",
    "    sfincs_region=sfincs_root / \"gis\" / \"region.geojson\",\n",
    "    start_date=\"2014-01-01\",\n",
    "    end_date=\"2021-12-31\",\n",
    "    rps=[2, 5, 10],\n",
    ")"
   ]
  },
  {
   "cell_type": "code",
   "execution_count": null,
   "metadata": {},
   "outputs": [],
   "source": [
    "# Setup the workflow\n",
    "wf = Workflow(config=config, name=name, root=case_root)"
   ]
  },
  {
   "cell_type": "code",
   "execution_count": null,
   "metadata": {},
   "outputs": [],
   "source": [
    "# Get precipitation data\n",
    "pluvial_data = rainfall.GetERA5Rainfall(\n",
    "    region=wf.get_ref(\"$config.sfincs_region\"),\n",
    "    output_dir=\"data/era5\",\n",
    "    start_date=wf.get_ref(\"$config.start_date\"),\n",
    "    end_date=wf.get_ref(\"$config.end_date\"),\n",
    ")\n",
    "wf.create_rule(pluvial_data, rule_id=\"pluvial_data\")\n"
   ]
  },
  {
   "cell_type": "code",
   "execution_count": null,
   "metadata": {},
   "outputs": [],
   "source": [
    "# Derive pluviual events from precipitation data\n",
    "pluvial_events = rainfall.PluvialDesignEvents(\n",
    "    precip_nc=pluvial_data.output.precip_nc,\n",
    "    event_root=\"data/events\",\n",
    "    rps=wf.get_ref(\"$config.rps\"),\n",
    "    wildcard=\"pluvial_events\",\n",
    ")\n",
    "wf.create_rule(pluvial_events, rule_id=\"pluvial_events\")\n"
   ]
  },
  {
   "cell_type": "code",
   "execution_count": null,
   "metadata": {},
   "outputs": [],
   "source": [
    "# Update the sfincs model with pluviual events\n",
    "sfincs_update = sfincs.SfincsUpdateForcing(\n",
    "    sfincs_inp=wf.get_ref(\"$config.sfincs_inp\"),\n",
    "    event_yaml=pluvial_events.output.event_yaml,\n",
    "    output_dir=config.sfincs_inp.parent/\"simulations\"\n",
    ")\n",
    "wf.create_rule(sfincs_update, rule_id=\"sfincs_update\")\n"
   ]
  },
  {
   "cell_type": "code",
   "execution_count": null,
   "metadata": {},
   "outputs": [],
   "source": [
    "# Run the sfincs model\n",
    "sfincs_run = sfincs.SfincsRun(\n",
    "    sfincs_inp=sfincs_update.output.sfincs_out_inp,\n",
    "    sfincs_exe=wf.get_ref(\"$config.sfincs_exe\"),\n",
    ")\n",
    "wf.create_rule(sfincs_run, rule_id=\"sfincs_run\")\n"
   ]
  },
  {
   "cell_type": "code",
   "execution_count": null,
   "metadata": {},
   "outputs": [],
   "source": [
    "# run workflow\n",
    "wf.dryrun()\n"
   ]
  },
  {
   "cell_type": "code",
   "execution_count": null,
   "metadata": {},
   "outputs": [],
   "source": [
    "# Write the workflow to a Snakefile and snakefile.config.yml\n",
    "wf.to_snakemake()\n",
    "\n",
    "# show the files in the case directory\n",
    "print(f\"{wf.root.relative_to(pwd)}:\")\n",
    "for f in wf.root.iterdir():\n",
    "    print(f\"- {f.name}\")"
   ]
  },
  {
   "cell_type": "code",
   "execution_count": null,
   "metadata": {},
   "outputs": [],
   "source": [
    "from IPython.display import SVG\n",
    "\n",
    "# (test) run the workflow with snakemake and visualize the directed acyclic graph\n",
    "# make sure to have snakemake installed in your environment\n",
    "subprocess.run('snakemake --dag | dot -Tsvg > dag.svg', cwd=wf.root, shell=True).check_returncode()\n",
    "\n",
    "# show the dag\n",
    "SVG(Path(wf.root, \"dag.svg\").as_posix())"
   ]
  }
 ],
 "metadata": {
  "kernelspec": {
   "display_name": "hydroflows",
   "language": "python",
   "name": "python3"
  },
  "language_info": {
   "codemirror_mode": {
    "name": "ipython",
    "version": 3
   },
   "file_extension": ".py",
   "mimetype": "text/x-python",
   "name": "python",
   "nbconvert_exporter": "python",
   "pygments_lexer": "ipython3",
   "version": "3.11.11"
  }
 },
 "nbformat": 4,
 "nbformat_minor": 2
}
