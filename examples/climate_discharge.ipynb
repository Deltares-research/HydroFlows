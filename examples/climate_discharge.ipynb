{
 "cells": [
  {
   "cell_type": "code",
   "execution_count": null,
   "metadata": {},
   "outputs": [],
   "source": [
    "# Import packages\n",
    "import subprocess\n",
    "from pathlib import Path\n",
    "\n",
    "from hydroflows import Workflow\n",
    "from hydroflows.log import setuplog\n",
    "from hydroflows.methods import climate, wflow\n",
    "from hydroflows.utils.example_data import fetch_data\n",
    "from hydroflows.workflow.workflow_config import WorkflowConfig\n",
    "\n",
    "logger = setuplog(level=\"INFO\")"
   ]
  },
  {
   "cell_type": "code",
   "execution_count": null,
   "metadata": {},
   "outputs": [],
   "source": [
    "# Fetch the climate build data\n",
    "cmip6_dir = fetch_data(data=\"cmip6-data\")"
   ]
  },
  {
   "cell_type": "code",
   "execution_count": null,
   "metadata": {},
   "outputs": [],
   "source": [
    "# Set the parent directory\n",
    "pwd = Path().resolve()\n",
    "\n",
    "model_dir = \"models/wflow\"    # wflow model directory (input)\n",
    "clim_dir = \"data/climatology\" # climatology data (intermediate results)\n",
    "\n",
    "# Case directory\n",
    "name = \"climate_discharge\"  # for now\n",
    "case_root=Path(pwd, \"cases\", name)"
   ]
  },
  {
   "cell_type": "code",
   "execution_count": null,
   "metadata": {},
   "outputs": [],
   "source": [
    "# Fetch a pre-build wflow-model\n",
    "fetch_data(\n",
    "    data=\"wflow-model\",\n",
    "    output_dir=Path(case_root, model_dir),\n",
    "    sub_dir=False\n",
    ")\n"
   ]
  },
  {
   "cell_type": "code",
   "execution_count": null,
   "metadata": {},
   "outputs": [],
   "source": [
    "# Setup the config file\n",
    "\n",
    "config = WorkflowConfig(\n",
    "    region=Path(model_dir, \"staticgeoms\", \"region.geojson\"),\n",
    "    catalog_path=Path(cmip6_dir, \"data_catalog.yml\"),\n",
    "    cmip6_models=[\n",
    "        \"NOAA-GFDL_GFDL-ESM4\",\n",
    "        \"INM_INM-CM5-0\",\n",
    "        \"CSIRO-ARCCSS_ACCESS-CM2\",\n",
    "    ],\n",
    "    cmip6_scenarios=[\"ssp245\", \"ssp585\"],\n",
    "    historical=[[2000, 2010]],\n",
    "    future_horizons=[[2050, 2060], [2090, 2100]],\n",
    "    plot_fig=True,\n",
    "    clim_dir = clim_dir,\n",
    ")"
   ]
  },
  {
   "cell_type": "code",
   "execution_count": null,
   "metadata": {},
   "outputs": [],
   "source": [
    "# Create a workflow\n",
    "w = Workflow(config=config, name=name, root=case_root)\n",
    "# Set wildcards\n",
    "w.wildcards.set(\"clim_models\", config.cmip6_models)\n",
    "w.wildcards.set(\"clim_scenarios\", config.cmip6_scenarios)"
   ]
  },
  {
   "cell_type": "code",
   "execution_count": null,
   "metadata": {},
   "outputs": [],
   "source": [
    "# Derive climate data statistics\n",
    "hist_climatology = climate.MonthlyClimatolgy(\n",
    "    region=w.get_ref(\"$config.region\"),\n",
    "    catalog_path=w.get_ref(\"$config.catalog_path\"),\n",
    "    model=\"{clim_models}\",\n",
    "    scenario=\"historical\",\n",
    "    horizon=w.get_ref(\"$config.historical\"),\n",
    "    output_dir=w.get_ref(\"$config.clim_dir\"),\n",
    ")\n",
    "w.add_rule(hist_climatology, rule_id=\"hist_climatology\")\n",
    "\n",
    "future_climatology = climate.MonthlyClimatolgy(\n",
    "    region=w.get_ref(\"$config.region\"),\n",
    "    catalog_path=w.get_ref(\"$config.catalog_path\"),\n",
    "    model=\"{clim_models}\",\n",
    "    scenario=\"{clim_scenarios}\",\n",
    "    horizon=w.get_ref(\"$config.future_horizons\"),\n",
    "    output_dir=w.get_ref(\"$config.clim_dir\"),\n",
    ")\n",
    "w.add_rule(future_climatology, rule_id=\"future_climatology\")"
   ]
  },
  {
   "cell_type": "code",
   "execution_count": null,
   "metadata": {},
   "outputs": [],
   "source": [
    "# Derive change factors from the statistics\n",
    "change_factors = climate.ClimateChangeFactors(\n",
    "    hist_climatology=hist_climatology.output.climatology,\n",
    "    future_climatology=future_climatology.output.climatology,\n",
    "    model=\"{clim_models}\",\n",
    "    scenario=\"{clim_scenarios}\",\n",
    "    horizon=w.get_ref(\"$config.future_horizons\"),\n",
    "    wildcard=\"horizons\",\n",
    "    output_dir=w.get_ref(\"$config.clim_dir\"),\n",
    ")\n",
    "w.add_rule(change_factors, rule_id=\"change_factors\")"
   ]
  },
  {
   "cell_type": "code",
   "execution_count": null,
   "metadata": {},
   "outputs": [],
   "source": [
    "# Create a model ensemble of the change factors\n",
    "change_factors_median = climate.MergeGriddedDatasets( \n",
    "    datasets=change_factors.output.change_factors,\n",
    "    reduce_dim=\"model\",\n",
    "    quantile=0.5,\n",
    "    output_name=\"change_{clim_scenarios}_{horizons}_q50.nc\",\n",
    "    output_dir=w.get_ref(\"$config.clim_dir\"),\n",
    ")\n",
    "w.add_rule(change_factors_median, rule_id=\"change_factors_median\")"
   ]
  },
  {
   "cell_type": "code",
   "execution_count": null,
   "metadata": {},
   "outputs": [],
   "source": [
    "# Downscale the ensemble change factors to wflow model resolution\n",
    "downscale = climate.DownscaleClimateDataset(\n",
    "    dataset=change_factors_median.output.merged_dataset,\n",
    "    target_grid= Path(model_dir, \"staticmaps.nc\"),\n",
    "    output_dir=Path(model_dir, \"simulations\", \"{clim_scenarios}_{horizons}\"),\n",
    ")\n",
    "w.add_rule(downscale, rule_id=\"downscale\")"
   ]
  },
  {
   "cell_type": "code",
   "execution_count": null,
   "metadata": {},
   "outputs": [],
   "source": [
    "# Prep the wflow config file\n",
    "set_config = wflow.WflowConfig(\n",
    "    wflow_toml= Path(model_dir, \"simulations\", \"default\", \"wflow_sbm.toml\"),\n",
    "    ri_input__path_forcing_scale=downscale.output.downscaled,\n",
    "    # scenario=\"{clim_scenarios}\",\n",
    "    # horizon=\"{horizons}\",\n",
    "    endtime=\"2014-01-31T00:00:00\",\n",
    "    output_dir=Path(model_dir, \"simulations\", \"{clim_scenarios}_{horizons}\"),\n",
    ")\n",
    "w.add_rule(set_config, rule_id=\"set_config\")\n",
    "\n",
    "# Run the wflow model\n",
    "wflow_run = wflow.WflowRun(\n",
    "    wflow_toml=set_config.output.wflow_out_toml,\n",
    "    run_method=\"script\",\n",
    "    wflow_run_script=\"run_wflow_change_factors.jl\",\n",
    ")\n",
    "w.add_rule(wflow_run, rule_id=\"wflow_run\")"
   ]
  },
  {
   "cell_type": "code",
   "execution_count": null,
   "metadata": {},
   "outputs": [],
   "source": [
    "# Test the workflow\n",
    "w.dryrun()"
   ]
  },
  {
   "cell_type": "code",
   "execution_count": null,
   "metadata": {},
   "outputs": [],
   "source": [
    "# Write the workflow to a Snakefile\n",
    "w.to_snakemake()\n",
    "\n",
    "# show the top 25 lines of the Snakefile\n",
    "with open(w.root / \"Snakefile\", \"r\") as f:\n",
    "    for _ in range(25):\n",
    "        print(f.readline().strip('\\n'))"
   ]
  },
  {
   "cell_type": "code",
   "execution_count": null,
   "metadata": {},
   "outputs": [],
   "source": [
    "from IPython.display import SVG\n",
    "\n",
    "# (test) run the workflow with snakemake and visualize the directed acyclic graph\n",
    "# make sure to have snakemake installed in your environment\n",
    "subprocess.run('snakemake --dag | dot -Tsvg > dag.svg', cwd=w.root, shell=True).check_returncode()\n",
    "\n",
    "# show the dag\n",
    "SVG(Path(w.root, \"dag.svg\").as_posix())"
   ]
  }
 ],
 "metadata": {
  "kernelspec": {
   "display_name": "hydroflows",
   "language": "python",
   "name": "python3"
  },
  "language_info": {
   "codemirror_mode": {
    "name": "ipython",
    "version": 3
   },
   "file_extension": ".py",
   "mimetype": "text/x-python",
   "name": "python",
   "nbconvert_exporter": "python",
   "pygments_lexer": "ipython3",
   "version": "3.11.10"
  }
 },
 "nbformat": 4,
 "nbformat_minor": 2
}
