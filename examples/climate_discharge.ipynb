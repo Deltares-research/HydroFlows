{
 "cells": [
  {
   "cell_type": "code",
   "execution_count": null,
   "metadata": {},
   "outputs": [],
   "source": [
    "# Import packages\n",
    "import subprocess\n",
    "from pathlib import Path\n",
    "\n",
    "from hydroflows import Workflow\n",
    "from hydroflows.log import setuplog\n",
    "from hydroflows.methods.climate import (\n",
    "    ClimateFactorsGridded,\n",
    "    ClimateStatistics,\n",
    "    DownscaleClimateDataset,\n",
    "    MergeDatasets,\n",
    ")\n",
    "from hydroflows.methods.wflow import WflowConfig, WflowRun\n",
    "from hydroflows.utils.example_data import fetch_data\n",
    "from hydroflows.workflow.workflow_config import WorkflowConfig\n",
    "\n",
    "logger = setuplog(level=\"INFO\")"
   ]
  },
  {
   "cell_type": "code",
   "execution_count": null,
   "metadata": {},
   "outputs": [],
   "source": [
    "# Fetch the climate build data\n",
    "cmip6_dir = fetch_data(data=\"cmip6-data\")"
   ]
  },
  {
   "cell_type": "code",
   "execution_count": null,
   "metadata": {},
   "outputs": [],
   "source": [
    "# Set the parent directory\n",
    "pwd = Path().resolve()\n",
    "\n",
    "# Define variables\n",
    "name = \"climate_discharge\"  # for now\n",
    "model_dir = \"models\"\n",
    "data_dir = \"data\"\n",
    "input_dir = f\"{data_dir}/input\"\n",
    "stats_dir = f\"{input_dir}/stats\"\n",
    "change_dir = f\"{input_dir}/change\"\n",
    "assemble_dir = f\"{input_dir}/assemble\"\n",
    "output_dir = f\"{data_dir}/output\"\n",
    "simu_dir = \"simulations\"\n",
    "\n",
    "# Case directory\n",
    "case_root=Path(pwd, \"cases\", name)"
   ]
  },
  {
   "cell_type": "code",
   "execution_count": null,
   "metadata": {},
   "outputs": [],
   "source": [
    "# Fetch a pre-build wflow-model\n",
    "wflow_data_dir = fetch_data(\n",
    "    data=\"wflow-model\",\n",
    "    output_dir=Path(pwd, \"cases\", name, model_dir, \"wflow\"),\n",
    "    sub_dir=False,\n",
    ")\n",
    "\n",
    "# Make a relative path for the workflow\n",
    "wflow_model_dir = wflow_data_dir.relative_to(Path(pwd, \"cases\", name))"
   ]
  },
  {
   "cell_type": "code",
   "execution_count": null,
   "metadata": {},
   "outputs": [],
   "source": [
    "# Setup the config file\n",
    "conf = WorkflowConfig(\n",
    "    region=Path(wflow_data_dir, \"staticgeoms\", \"region.geojson\"),\n",
    "    data_libs=[Path(cmip6_dir, \"data_catalog.yml\")],\n",
    "    cmip6_models=[\n",
    "        \"NOAA-GFDL_GFDL-ESM4\",\n",
    "        \"INM_INM-CM5-0\",\n",
    "        \"CSIRO-ARCCSS_ACCESS-CM2\",\n",
    "    ],\n",
    "    cmip6_scenarios=[\"ssp245\", \"ssp585\"],\n",
    "    historical=[[2000, 2010]],\n",
    "    future_horizons=[[2050, 2060], [2090, 2100]],\n",
    "    plot_fig=True,\n",
    ")"
   ]
  },
  {
   "cell_type": "code",
   "execution_count": null,
   "metadata": {},
   "outputs": [],
   "source": [
    "# Create a workflow\n",
    "w = Workflow(config=conf, name=name, root=case_root)\n",
    "# Set wildcards\n",
    "w.wildcards.set(\"models\", w.get_ref(\"$config.cmip6_models\").value)\n",
    "w.wildcards.set(\"scenarios\", w.get_ref(\"$config.cmip6_scenarios\").value)"
   ]
  },
  {
   "cell_type": "code",
   "execution_count": null,
   "metadata": {},
   "outputs": [],
   "source": [
    "# Derive climate data statistics\n",
    "hist_stats = ClimateStatistics(\n",
    "    region=w.get_ref(\"$config.region\"),\n",
    "    data_libs=w.get_ref(\"$config.data_libs\"),\n",
    "    model=\"{models}\",\n",
    "    horizon=w.get_ref(\"$config.historical\"),\n",
    "    data_root=stats_dir,\n",
    ")\n",
    "w.add_rule(hist_stats, rule_id=\"hist_stats\")\n",
    "\n",
    "fut_stats = ClimateStatistics(\n",
    "    region=w.get_ref(\"$config.region\"),\n",
    "    data_libs=w.get_ref(\"$config.data_libs\"),\n",
    "    model=\"{models}\",\n",
    "    scenario=\"{scenarios}\",\n",
    "    horizon=w.get_ref(\"$config.future_horizons\"),\n",
    "    data_root=stats_dir,\n",
    ")\n",
    "w.add_rule(fut_stats, rule_id=\"fut_stats\")"
   ]
  },
  {
   "cell_type": "code",
   "execution_count": null,
   "metadata": {},
   "outputs": [],
   "source": [
    "# Derive change factors from the statistics\n",
    "change_factors = ClimateFactorsGridded(\n",
    "    hist_stats.output.stats,\n",
    "    fut_stats.output.stats,\n",
    "    model=\"{models}\",\n",
    "    scenario=\"{scenarios}\",\n",
    "    horizon=w.get_ref(\"$config.future_horizons\"),\n",
    "    wildcard=\"horizons\",\n",
    "    data_root=change_dir,\n",
    ")\n",
    "w.add_rule(change_factors, rule_id=\"change_factors\")"
   ]
  },
  {
   "cell_type": "code",
   "execution_count": null,
   "metadata": {},
   "outputs": [],
   "source": [
    "# Create a model ensemble of the change factors\n",
    "ensemble = MergeDatasets(\n",
    "    change_factors.output.change_factors,\n",
    "    scenario=\"{scenarios}\",\n",
    "    horizon=\"{horizons}\",\n",
    "    data_root=Path(wflow_model_dir, simu_dir, \"{scenarios}_{horizons}\"),\n",
    ")\n",
    "w.add_rule(ensemble, rule_id=\"ensemble\")"
   ]
  },
  {
   "cell_type": "code",
   "execution_count": null,
   "metadata": {},
   "outputs": [],
   "source": [
    "# Downscale the ensemble change factors to wflow model resolution\n",
    "downscale = DownscaleClimateDataset(\n",
    "    dataset=ensemble.output.merged,\n",
    "    ds_like=wflow_data_dir / \"staticmaps.nc\",\n",
    "    data_root=Path(wflow_model_dir, simu_dir, \"{scenarios}_{horizons}\"),\n",
    ")\n",
    "w.add_rule(downscale, rule_id=\"downscale\")"
   ]
  },
  {
   "cell_type": "code",
   "execution_count": null,
   "metadata": {},
   "outputs": [],
   "source": [
    "# Prep the wflow config file\n",
    "set_config = WflowConfig(\n",
    "    wflow_toml=wflow_data_dir / simu_dir / \"default\" / \"wflow_sbm.toml\",\n",
    "    ri_input__path_forcing_scale=downscale.output.downscaled,\n",
    "    scenario=\"{scenarios}\",\n",
    "    horizon=\"{horizons}\",\n",
    "    endtime=\"2014-01-31T00:00:00\",\n",
    "    data_root=Path(wflow_model_dir, simu_dir, \"{scenarios}_{horizons}\"),\n",
    ")\n",
    "w.add_rule(set_config, rule_id=\"set_config\")\n",
    "\n",
    "# Run the wflow model\n",
    "wflow_run = WflowRun(\n",
    "    wflow_toml=set_config.output.wflow_out_toml,\n",
    "    run_method=\"script\",\n",
    "    wflow_run_script=\"run_wflow_change_factors.jl\",\n",
    ")\n",
    "w.add_rule(wflow_run, rule_id=\"wflow_run\")"
   ]
  },
  {
   "cell_type": "code",
   "execution_count": null,
   "metadata": {},
   "outputs": [],
   "source": [
    "# Test the workflow\n",
    "w.dryrun()"
   ]
  },
  {
   "cell_type": "code",
   "execution_count": null,
   "metadata": {},
   "outputs": [],
   "source": [
    "# Write the workflow to a Snakefile\n",
    "w.to_snakemake()\n",
    "\n",
    "# show the top 25 lines of the Snakefile\n",
    "with open(w.root / \"Snakefile\", \"r\") as f:\n",
    "    for _ in range(25):\n",
    "        print(f.readline().strip('\\n'))"
   ]
  },
  {
   "cell_type": "code",
   "execution_count": null,
   "metadata": {},
   "outputs": [],
   "source": [
    "from IPython.display import SVG\n",
    "\n",
    "# (test) run the workflow with snakemake and visualize the directed acyclic graph\n",
    "# make sure to have snakemake installed in your environment\n",
    "subprocess.run('snakemake --dag | dot -Tsvg > dag.svg', cwd=w.root, shell=True).check_returncode()\n",
    "\n",
    "# show the dag\n",
    "SVG(Path(w.root, \"dag.svg\").as_posix())"
   ]
  }
 ],
 "metadata": {
  "kernelspec": {
   "display_name": "hydroflows",
   "language": "python",
   "name": "python3"
  },
  "language_info": {
   "codemirror_mode": {
    "name": "ipython",
    "version": 3
   },
   "file_extension": ".py",
   "mimetype": "text/x-python",
   "name": "python",
   "nbconvert_exporter": "python",
   "pygments_lexer": "ipython3",
   "version": "3.11.10"
  }
 },
 "nbformat": 4,
 "nbformat_minor": 2
}
