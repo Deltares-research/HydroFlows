{
 "cells": [
  {
   "cell_type": "markdown",
   "metadata": {},
   "source": [
    "# Future climate discharge workflow\n",
    "\n",
    "This example shows how to update **Wflow** model forcing with monthly change factors derived from differences between present and future climate model simulations to the effect of climate change on discharge. This example can be combined with the fluvial risk example to simulate flood risk for present and future climate scenarios. "
   ]
  },
  {
   "cell_type": "code",
   "execution_count": null,
   "metadata": {},
   "outputs": [],
   "source": [
    "# Import packages\n",
    "from pathlib import Path\n",
    "\n",
    "from hydroflows import Workflow\n",
    "from hydroflows.log import setuplog\n",
    "from hydroflows.methods import climate, raster, wflow\n",
    "from hydroflows.utils.example_data import fetch_data\n",
    "from hydroflows.workflow.workflow_config import WorkflowConfig\n",
    "\n",
    "logger = setuplog(level=\"INFO\")"
   ]
  },
  {
   "cell_type": "code",
   "execution_count": null,
   "metadata": {},
   "outputs": [],
   "source": [
    "# Set the parent directory\n",
    "pwd = Path().resolve()\n",
    "# Case directory\n",
    "name = \"climate_discharge\"  # for now\n",
    "case_root=Path(pwd, \"cases\", name)"
   ]
  },
  {
   "cell_type": "markdown",
   "metadata": {},
   "source": [
    "\n",
    "## Workflow inputs\n",
    "\n",
    "This example uses a predefined Wflow model and CMIP6 data. \n",
    "You can define the CMIP6 climate models to use as well as the climate scenarios/horizons."
   ]
  },
  {
   "cell_type": "code",
   "execution_count": null,
   "metadata": {},
   "outputs": [],
   "source": [
    "# Fetch the climate build data\n",
    "cmip6_dir = fetch_data(data=\"cmip6-data\")"
   ]
  },
  {
   "cell_type": "code",
   "execution_count": null,
   "metadata": {},
   "outputs": [],
   "source": [
    "# Setup the config file\n",
    "\n",
    "model_dir = \"models/wflow\"          # wflow model directory (input)\n",
    "clim_dir = \"data/climatology\"       # climatology data (intermediate results)\n",
    "change_dir = \"data/change_factor\"   # change factor data (intermediate results) \n",
    "\n",
    "config = WorkflowConfig(\n",
    "    region=Path(model_dir, \"staticgeoms\", \"region.geojson\"),\n",
    "    catalog_path=Path(cmip6_dir, \"data_catalog.yml\"),\n",
    "    cmip6_models=[\n",
    "        \"NOAA-GFDL_GFDL-ESM4\",\n",
    "        \"INM_INM-CM5-0\",\n",
    "        \"CSIRO-ARCCSS_ACCESS-CM2\",\n",
    "    ],\n",
    "    cmip6_scenarios=[\"ssp245\", \"ssp585\"],\n",
    "    historical=[[2000, 2010]],\n",
    "    future_horizons=[[2050, 2060], [2090, 2100]],\n",
    "    plot_fig=True,\n",
    "    clim_dir = clim_dir,\n",
    "    change_dir = change_dir,\n",
    ")"
   ]
  },
  {
   "cell_type": "markdown",
   "metadata": {},
   "source": [
    "## Create the workflow\n",
    "\n",
    "Note that we initialize the workflow with a wildcards for the climate models and scenarios used to scale the wflow forcing."
   ]
  },
  {
   "cell_type": "code",
   "execution_count": null,
   "metadata": {},
   "outputs": [],
   "source": [
    "# Create a workflow\n",
    "wf = Workflow(config=config, name=name, root=case_root)\n",
    "# Set wildcards\n",
    "wf.wildcards.set(\"clim_models\", config.cmip6_models)\n",
    "wf.wildcards.set(\"clim_scenarios\", config.cmip6_scenarios)"
   ]
  },
  {
   "cell_type": "markdown",
   "metadata": {},
   "source": [
    "### Prepare a Wflow model and forcing\n",
    "\n",
    "Here we use an pre-developed model. You can replace this by your model or use the BuildWflow method to build your model as part of the workflow. "
   ]
  },
  {
   "cell_type": "code",
   "execution_count": null,
   "metadata": {},
   "outputs": [],
   "source": [
    "# Fetch a pre-build wflow-model\n",
    "fetch_data(\n",
    "    data=\"wflow-model\",\n",
    "    output_dir=Path(case_root, model_dir),\n",
    "    sub_dir=False\n",
    ")"
   ]
  },
  {
   "cell_type": "markdown",
   "metadata": {},
   "source": [
    "### Derive Climate statistics\n",
    "\n",
    "First, we derive monthly spatially distributed climatology for present (hist) and future climate conditions. Both are derived for multiple climate models and the future climatology is derived for multiple climate scenarios / horizons. \n",
    "Then change factors between the present and future climate conditions are calculated for each month of the climatology. \n",
    "The multi-model ensemble of change factors can be reduced to a single median change factor as shown here, or propagated to the Wflow simulations.  "
   ]
  },
  {
   "cell_type": "code",
   "execution_count": null,
   "metadata": {},
   "outputs": [],
   "source": [
    "# Derive climate data statistics\n",
    "hist_climatology = climate.MonthlyClimatology(\n",
    "    region=wf.get_ref(\"$config.region\"),\n",
    "    catalog_path=wf.get_ref(\"$config.catalog_path\"),\n",
    "    model=\"{clim_models}\",\n",
    "    scenario=\"historical\",\n",
    "    horizon=wf.get_ref(\"$config.historical\"),\n",
    "    output_dir=wf.get_ref(\"$config.clim_dir\"),\n",
    ")\n",
    "wf.create_rule(hist_climatology, rule_id=\"hist_climatology\")\n",
    "\n",
    "future_climatology = climate.MonthlyClimatology(\n",
    "    region=wf.get_ref(\"$config.region\"),\n",
    "    catalog_path=wf.get_ref(\"$config.catalog_path\"),\n",
    "    model=\"{clim_models}\",\n",
    "    scenario=\"{clim_scenarios}\",\n",
    "    horizon=wf.get_ref(\"$config.future_horizons\"),\n",
    "    output_dir=wf.get_ref(\"$config.clim_dir\"),\n",
    ")\n",
    "wf.create_rule(future_climatology, rule_id=\"future_climatology\")"
   ]
  },
  {
   "cell_type": "code",
   "execution_count": null,
   "metadata": {},
   "outputs": [],
   "source": [
    "# Derive change factors from the statistics\n",
    "change_factors = climate.ClimateChangeFactors(\n",
    "    hist_climatology=hist_climatology.output.climatology,\n",
    "    future_climatology=future_climatology.output.climatology,\n",
    "    model=\"{clim_models}\",\n",
    "    scenario=\"{clim_scenarios}\",\n",
    "    horizon=wf.get_ref(\"$config.future_horizons\"),\n",
    "    wildcard=\"horizons\",\n",
    "    output_dir=wf.get_ref(\"$config.change_dir\"),\n",
    ")\n",
    "wf.create_rule(change_factors, rule_id=\"change_factors\")"
   ]
  },
  {
   "cell_type": "code",
   "execution_count": null,
   "metadata": {},
   "outputs": [],
   "source": [
    "# Create a model ensemble of the change factors\n",
    "change_factors_median = raster.MergeGriddedDatasets( \n",
    "    datasets=change_factors.output.change_factors,\n",
    "    reduce_dim=\"model\",\n",
    "    quantile=0.5,\n",
    "    output_name=\"change_{clim_scenarios}_{horizons}_q50.nc\",\n",
    "    output_dir=wf.get_ref(\"$config.change_dir\"),\n",
    ")\n",
    "wf.create_rule(change_factors_median, rule_id=\"change_factors_median\")"
   ]
  },
  {
   "cell_type": "markdown",
   "metadata": {},
   "source": [
    "### Update and run the Wflow model\n",
    "\n",
    "The ensemble median change factors are downscaled to the Wflow model grid and added to the Wflow settings file. To run the Wflow model with these change factors a tailored Wflow run script is required as this is not yet standard Wflow functionality."
   ]
  },
  {
   "cell_type": "code",
   "execution_count": null,
   "metadata": {},
   "outputs": [],
   "source": [
    "# Downscale the ensemble change factors to wflow model resolution\n",
    "wflow_change_factors = wflow.WflowUpdateChangeFactors(\n",
    "    change_factor_dataset=change_factors_median.output.merged_dataset,\n",
    "    wflow_toml=Path(model_dir, \"simulations\", \"default\", \"wflow_sbm.toml\"),\n",
    "    output_dir=Path(model_dir, \"simulations\", \"{clim_scenarios}_{horizons}\"),\n",
    "    copy_model=True\n",
    ")\n",
    "wf.create_rule(wflow_change_factors, rule_id=\"wflow_change_factors\")"
   ]
  },
  {
   "cell_type": "code",
   "execution_count": null,
   "metadata": {},
   "outputs": [],
   "source": [
    "# Run the wflow model\n",
    "wflow_run = wflow.WflowRun(\n",
    "    wflow_toml=wflow_change_factors.output.wflow_out_toml,\n",
    "    run_method=\"script\",\n",
    "    wflow_run_script=\"run_wflow_change_factors.jl\",\n",
    ")\n",
    "wf.create_rule(wflow_run, rule_id=\"wflow_run\")"
   ]
  },
  {
   "cell_type": "markdown",
   "metadata": {},
   "source": [
    "## Visualize and execute the workflow"
   ]
  },
  {
   "cell_type": "code",
   "execution_count": null,
   "metadata": {},
   "outputs": [],
   "source": [
    "# plot the rulegraph using graphviz\n",
    "wf.plot_rulegraph(filename=\"rulegraph.svg\", plot_rule_attrs=True)"
   ]
  },
  {
   "cell_type": "code",
   "execution_count": null,
   "metadata": {},
   "outputs": [],
   "source": [
    "# Test the workflow\n",
    "wf.dryrun()"
   ]
  },
  {
   "cell_type": "code",
   "execution_count": null,
   "metadata": {},
   "outputs": [],
   "source": [
    "# Write the workflow to a Snakefile and snakefile.config.yml\n",
    "wf.to_snakemake()\n",
    "\n",
    "# show the files in the case directory\n",
    "print(f\"{wf.root.relative_to(pwd)}:\")\n",
    "for f in wf.root.iterdir():\n",
    "    print(f\"- {f.name}\")"
   ]
  }
 ],
 "metadata": {
  "kernelspec": {
   "display_name": "hydroflows",
   "language": "python",
   "name": "python3"
  },
  "language_info": {
   "codemirror_mode": {
    "name": "ipython",
    "version": 3
   },
   "file_extension": ".py",
   "mimetype": "text/x-python",
   "name": "python",
   "nbconvert_exporter": "python",
   "pygments_lexer": "ipython3",
   "version": "3.11.11"
  }
 },
 "nbformat": 4,
 "nbformat_minor": 2
}
