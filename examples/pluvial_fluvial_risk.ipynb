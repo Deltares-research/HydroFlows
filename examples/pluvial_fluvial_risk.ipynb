{
 "cells": [
  {
   "cell_type": "markdown",
   "metadata": {},
   "source": [
    "# Combined pluvial and fluvial flood risk"
   ]
  },
  {
   "cell_type": "code",
   "execution_count": null,
   "metadata": {},
   "outputs": [],
   "source": [
    "# Import packages\n",
    "import subprocess\n",
    "from pathlib import Path\n",
    "\n",
    "from hydroflows import Workflow, WorkflowConfig\n",
    "from hydroflows.log import setuplog\n",
    "from hydroflows.methods import discharge, fiat, rainfall, sfincs, wflow\n",
    "from hydroflows.utils.example_data import fetch_data\n",
    "\n",
    "logger = setuplog(level=\"INFO\")"
   ]
  },
  {
   "cell_type": "code",
   "execution_count": null,
   "metadata": {},
   "outputs": [],
   "source": [
    "# Fetch the global build data\n",
    "cache_dir = fetch_data(data=\"global-data\")"
   ]
  },
  {
   "cell_type": "code",
   "execution_count": null,
   "metadata": {},
   "outputs": [],
   "source": [
    "# Define case name and root directory\n",
    "name = \"pluvial_fluvial_hazard\"\n",
    "pwd = Path().resolve()  # Get the current file location\n",
    "case_root = Path(pwd, \"cases\", name)  # output directory"
   ]
  },
  {
   "cell_type": "code",
   "execution_count": null,
   "metadata": {},
   "outputs": [],
   "source": [
    "config = WorkflowConfig(\n",
    "    # general settings\n",
    "    region=Path(pwd, \"data/build/region.geojson\"),\n",
    "    catalog_path=Path(cache_dir, \"data_catalog.yml\"),\n",
    "    plot_fig=True,\n",
    "    start_date=\"2014-01-01\",\n",
    "    end_date=\"2021-12-31\",\n",
    "    # sfincs settings\n",
    "    hydromt_sfincs_config=Path(pwd, \"hydromt_config/sfincs_config.yml\"),\n",
    "    sfincs_exe=Path(pwd, \"bin/sfincs_v2.1.1/sfincs.exe\"),\n",
    "    # wflow settings\n",
    "    hydromt_wflow_config=Path(pwd, \"hydromt_config/wflow_config.yml\"),\n",
    "    wflow_exe=Path(pwd, \"bin/wflow_v0.8.1/bin/wflow_cli.exe\"),\n",
    "    # fiat settings\n",
    "    hydromt_fiat_config=Path(pwd, \"hydromt_config/fiat_config.yml\"),\n",
    "    fiat_exe=Path(pwd, \"bin/fiat/fiat.exe\"),\n",
    "    risk=True,\n",
    "    # design events settings\n",
    "    rps=[5, 10, 25],\n",
    ")\n"
   ]
  },
  {
   "cell_type": "code",
   "execution_count": null,
   "metadata": {},
   "outputs": [],
   "source": [
    "# create and empty workflow\n",
    "wf = Workflow(config=config, name=name, root=case_root)"
   ]
  },
  {
   "cell_type": "code",
   "execution_count": null,
   "metadata": {},
   "outputs": [],
   "source": [
    "# Build SFINCS model\n",
    "sfincs_build = sfincs.SfincsBuild(\n",
    "    region=wf.get_ref(\"$config.region\"),\n",
    "    config=wf.get_ref(\"$config.hydromt_sfincs_config\"),\n",
    "    sfincs_root=\"models/sfincs\",\n",
    "    catalog_path=wf.get_ref(\"$config.catalog_path\"),\n",
    "    plot_fig=wf.get_ref(\"$config.plot_fig\"),\n",
    ")\n",
    "wf.add_rule(sfincs_build, rule_id=\"sfincs_build\")"
   ]
  },
  {
   "cell_type": "code",
   "execution_count": null,
   "metadata": {},
   "outputs": [],
   "source": [
    "# Wflow build\n",
    "# additional \"gauges\" are created at sfincs discharge source points\n",
    "wflow_build = wflow.WflowBuild(\n",
    "    region=sfincs_build.output.sfincs_region,\n",
    "    wflow_root=\"models/wflow\",\n",
    "    config=wf.get_ref(\"$config.hydromt_wflow_config\"),\n",
    "    catalog_path=wf.get_ref(\"$config.catalog_path\"),\n",
    "    gauges=Path(sfincs_build.params.sfincs_root, \"gis\", \"src.geojson\"),\n",
    "    plot_fig=wf.get_ref(\"$config.plot_fig\"),\n",
    ")\n",
    "wf.add_rule(wflow_build, rule_id=\"wflow_build\")\n"
   ]
  },
  {
   "cell_type": "code",
   "execution_count": null,
   "metadata": {},
   "outputs": [],
   "source": [
    "# Fiat build\n",
    "fiat_build = fiat.FIATBuild(\n",
    "    region=sfincs_build.output.sfincs_region,\n",
    "    ground_elevation=sfincs_build.output.sfincs_subgrid_dep,\n",
    "    fiat_root=\"models/fiat\",\n",
    "    catalog_path=wf.get_ref(\"$config.catalog_path\"),\n",
    "    config=wf.get_ref(\"$config.hydromt_fiat_config\"),\n",
    ")\n",
    "wf.add_rule(fiat_build, rule_id=\"fiat_build\")\n"
   ]
  },
  {
   "cell_type": "code",
   "execution_count": null,
   "metadata": {},
   "outputs": [],
   "source": [
    "# Update and run wflow & generate fluvial design events by postprocessing wflow output\n",
    "# Update forcing\n",
    "wflow_update = wflow.WflowUpdateForcing(\n",
    "    wflow_toml=wflow_build.output.wflow_toml,\n",
    "    catalog_path=wf.get_ref(\"$config.catalog_path\"),\n",
    "    start_time=wf.get_ref(\"$config.start_date\"),\n",
    "    end_time=wf.get_ref(\"$config.end_date\"),\n",
    ")\n",
    "wf.add_rule(wflow_update, rule_id=\"wflow_update\")\n",
    "\n",
    "# Run wflow\n",
    "wflow_run = wflow.WflowRun(\n",
    "    wflow_toml=wflow_update.output.wflow_out_toml,\n",
    "    wflow_bin=wf.get_ref(\"$config.wflow_exe\"),\n",
    ")\n",
    "wf.add_rule(wflow_run, rule_id=\"wflow_run\")\n",
    "\n",
    "# Generate fluvial events\n",
    "fluvial_events = discharge.FluvialDesignEvents(\n",
    "    discharge_nc=wflow_run.output.wflow_output_timeseries,\n",
    "    rps=wf.get_ref(\"$config.rps\"),\n",
    "    wildcard=\"fluvial_events\",\n",
    "    event_root=\"data/events\",\n",
    "    index_dim=\"Q_gauges_bounds\",\n",
    ")\n",
    "wf.add_rule(fluvial_events, rule_id=\"fluvial_events\")"
   ]
  },
  {
   "cell_type": "code",
   "execution_count": null,
   "metadata": {},
   "outputs": [],
   "source": [
    "# Pluvial events\n",
    "# Get the data\n",
    "pluvial_data = rainfall.GetERA5Rainfall(\n",
    "    region=sfincs_build.output.sfincs_region,\n",
    "    data_root=\"data/era5\",\n",
    "    start_date=wf.get_ref(\"$config.start_date\"),\n",
    "    end_date=wf.get_ref(\"$config.end_date\"),\n",
    ")\n",
    "wf.add_rule(pluvial_data, rule_id=\"pluvial_data\")\n",
    "precip_nc = pluvial_data.output.precip_nc\n",
    "\n",
    "# Actual derivation of events based on precip\n",
    "pluvial_events = rainfall.PluvialDesignEvents(\n",
    "    precip_nc=precip_nc,\n",
    "    rps=wf.get_ref(\"$config.rps\"),\n",
    "    wildcard=\"pluvial_events\",\n",
    "    event_root=\"data/events\",\n",
    ")\n",
    "wf.add_rule(pluvial_events, rule_id=\"pluvial_events\")"
   ]
  },
  {
   "cell_type": "code",
   "execution_count": null,
   "metadata": {},
   "outputs": [],
   "source": [
    "# Combine fluvial and pluvial events into one set in order to run SFINCS for all in parallel\n",
    "all_events = wf.wildcards.get(\"pluvial_events\") + wf.wildcards.get(\"fluvial_events\")\n",
    "wf.wildcards.set(\"all_events\", all_events)\n"
   ]
  },
  {
   "cell_type": "code",
   "execution_count": null,
   "metadata": {},
   "outputs": [],
   "source": [
    "# Updating, running and postprocessing SFINCS model for combined events\n",
    "# Sfincs update with precip\n",
    "sfincs_update = sfincs.SfincsUpdateForcing(\n",
    "    sfincs_inp=sfincs_build.output.sfincs_inp,\n",
    "    event_yaml=\"data/events/{all_events}.yml\",\n",
    ")\n",
    "wf.add_rule(sfincs_update, rule_id=\"sfincs_update\")\n",
    "\n",
    "# Run SFINCS model\n",
    "sfincs_run = sfincs.SfincsRun(\n",
    "    sfincs_inp=sfincs_update.output.sfincs_out_inp,\n",
    "    sfincs_exe=wf.get_ref(\"$config.sfincs_exe\"),\n",
    ")\n",
    "wf.add_rule(sfincs_run, rule_id=\"sfincs_run\")\n",
    "\n",
    "# Postprocesses SFINCS results\n",
    "sfincs_post = sfincs.SfincsPostprocess(\n",
    "    sfincs_map=sfincs_run.output.sfincs_map,\n",
    "    event_name=\"{all_events}\",\n",
    ")\n",
    "wf.add_rule(sfincs_post, rule_id=\"sfincs_post\")"
   ]
  },
  {
   "cell_type": "code",
   "execution_count": null,
   "metadata": {},
   "outputs": [],
   "source": [
    "# Update and run FIAT for both event sets\n",
    "# Set the combined event_set of both fluvial and pluvial\n",
    "wf.wildcards.set(\"event_set\", [\"fluvial_design_events\", \"pluvial_design_events\"])\n",
    "\n",
    "# Update hazard\n",
    "fiat_update = fiat.FIATUpdateHazard(\n",
    "    fiat_cfg=fiat_build.output.fiat_cfg,\n",
    "    event_set_yaml=\"data/events/{event_set}.yml\",\n",
    "    map_type=\"water_level\",\n",
    "    hazard_maps=sfincs_post.output.sfincs_zsmax,\n",
    "    risk=wf.get_ref(\"$config.risk\"),\n",
    ")\n",
    "wf.add_rule(fiat_update, rule_id=\"fiat_update\")\n",
    "\n",
    "# Run FIAT\n",
    "fiat_run = fiat.FIATRun(\n",
    "    fiat_cfg=fiat_update.output.fiat_out_cfg,\n",
    "    fiat_exe=wf.get_ref(\"$config.fiat_exe\"),\n",
    ")\n",
    "wf.add_rule(fiat_run, rule_id=\"fiat_run\")"
   ]
  },
  {
   "cell_type": "code",
   "execution_count": null,
   "metadata": {},
   "outputs": [],
   "source": [
    "# Test the workflow\n",
    "wf.dryrun()"
   ]
  },
  {
   "cell_type": "code",
   "execution_count": null,
   "metadata": {},
   "outputs": [],
   "source": [
    "# Write the workflow to a Snakefile\n",
    "wf.to_snakemake()\n",
    "\n",
    "# show the files in the case directory\n",
    "print(f\"{wf.root.relative_to(pwd)}:\")\n",
    "for f in wf.root.iterdir():\n",
    "    print(f\"- {f.name}\")"
   ]
  },
  {
   "cell_type": "code",
   "execution_count": null,
   "metadata": {},
   "outputs": [],
   "source": [
    "from IPython.display import SVG\n",
    "\n",
    "# (test) run the workflow with snakemake and visualize the directed acyclic graph\n",
    "# make sure to have snakemake installed in your environment\n",
    "subprocess.run('snakemake --dag | dot -Tsvg > dag.svg', cwd=wf.root, shell=True).check_returncode()\n",
    "\n",
    "# show the dag\n",
    "SVG(Path(wf.root, \"dag.svg\").as_posix())"
   ]
  },
  {
   "cell_type": "code",
   "execution_count": null,
   "metadata": {},
   "outputs": [],
   "source": [
    "# uncomment to run the workflow\n",
    "# subprocess.run([\"snakemake\", \"-c\", \"1\"], cwd=wf.root)"
   ]
  }
 ],
 "metadata": {
  "kernelspec": {
   "display_name": "hydroflows",
   "language": "python",
   "name": "python3"
  },
  "language_info": {
   "codemirror_mode": {
    "name": "ipython",
    "version": 3
   },
   "file_extension": ".py",
   "mimetype": "text/x-python",
   "name": "python",
   "nbconvert_exporter": "python",
   "pygments_lexer": "ipython3",
   "version": "3.11.10"
  }
 },
 "nbformat": 4,
 "nbformat_minor": 2
}
