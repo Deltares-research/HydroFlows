{
 "cells": [
  {
   "cell_type": "code",
   "execution_count": null,
   "metadata": {},
   "outputs": [],
   "source": [
    "# Import modules\n",
    "from pathlib import Path\n",
    "\n",
    "from hydroflows.methods.coastal import (\n",
    "    CoastalDesignEvents,\n",
    "    GetGTSMData,\n",
    ")\n",
    "from hydroflows.utils.example_data import fetch_data\n",
    "from hydroflows.workflow import Workflow, WorkflowConfig\n"
   ]
  },
  {
   "cell_type": "code",
   "execution_count": null,
   "metadata": {},
   "outputs": [],
   "source": [
    "# Where the current file is located\n",
    "pwd = Path(__file__).parent\n",
    "\n",
    "cache_dir = fetch_data(data=\"global-data\")\n"
   ]
  },
  {
   "cell_type": "code",
   "execution_count": null,
   "metadata": {},
   "outputs": [],
   "source": [
    "# Setup variables\n",
    "name = \"coastal_events\"\n",
    "case_root = Path(pwd, \"cases\", name)\n"
   ]
  },
  {
   "cell_type": "code",
   "execution_count": null,
   "metadata": {},
   "outputs": [],
   "source": [
    "# Setup the configuration\n",
    "config = WorkflowConfig(\n",
    "    region=Path(pwd, \"data/build/region.geojson\"),\n",
    "    gtsm_catalog=Path(cache_dir, \"data_catalog.yml\"),\n",
    "    start_time=\"2014-01-01\",\n",
    "    end_time=\"2021-12-31\",\n",
    "    rps=[2, 5, 10],\n",
    ")\n",
    "\n",
    "w = Workflow(config=config, name=name, root=case_root)\n"
   ]
  },
  {
   "cell_type": "code",
   "execution_count": null,
   "metadata": {},
   "outputs": [],
   "source": [
    "# Get the GTSM data\n",
    "get_gtsm_data = GetGTSMData(\n",
    "    gtsm_catalog=w.get_ref(\"$config.gtsm_catalog\"),\n",
    "    start_time=w.get_ref(\"$config.start_time\"),\n",
    "    end_time=w.get_ref(\"$config.end_time\"),\n",
    "    region=w.get_ref(\"$config.region\"),\n",
    "    data_root=\"data/gtsm\",\n",
    ")\n",
    "w.add_rule(get_gtsm_data, rule_id=\"get_gtsm_data\")\n"
   ]
  },
  {
   "cell_type": "code",
   "execution_count": null,
   "metadata": {},
   "outputs": [],
   "source": [
    "# Generate coastal design events\n",
    "coastal_design_events = CoastalDesignEvents(\n",
    "    surge_timeseries=get_gtsm_data.output.surge_nc,\n",
    "    tide_timeseries=get_gtsm_data.output.tide_nc,\n",
    "    bnd_locations=get_gtsm_data.output.bnd_locations,\n",
    "    rps=w.get_ref(\"$config.rps\"),\n",
    "    event_root=\"data/events\",\n",
    ")\n",
    "w.add_rule(coastal_design_events, rule_id=\"coastal_design_events\")\n"
   ]
  },
  {
   "cell_type": "code",
   "execution_count": null,
   "metadata": {},
   "outputs": [],
   "source": [
    "# Test the workflow\n",
    "w.dryrun()\n"
   ]
  },
  {
   "cell_type": "code",
   "execution_count": null,
   "metadata": {},
   "outputs": [],
   "source": [
    "# to snakemake\n",
    "w.to_snakemake()\n"
   ]
  }
 ],
 "metadata": {
  "language_info": {
   "codemirror_mode": {
    "name": "ipython",
    "version": 3
   },
   "file_extension": ".py",
   "mimetype": "text/x-python",
   "name": "python",
   "nbconvert_exporter": "python",
   "pygments_lexer": "ipython3",
   "version": 3
  }
 },
 "nbformat": 4,
 "nbformat_minor": 2
}
