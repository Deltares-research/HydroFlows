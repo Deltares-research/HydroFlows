{
 "cells": [
  {
   "cell_type": "markdown",
   "metadata": {},
   "source": [
    "# Coastal flood hazard workflow"
   ]
  },
  {
   "cell_type": "code",
   "execution_count": null,
   "metadata": {},
   "outputs": [],
   "source": [
    "# Import modules\n",
    "import subprocess\n",
    "from pathlib import Path\n",
    "\n",
    "from hydroflows import Workflow, WorkflowConfig\n",
    "from hydroflows.methods import coastal\n",
    "from hydroflows.utils.example_data import fetch_data\n"
   ]
  },
  {
   "cell_type": "code",
   "execution_count": null,
   "metadata": {},
   "outputs": [],
   "source": [
    "# Fetch the global build data\n",
    "cache_dir = fetch_data(data=\"global-data\")\n"
   ]
  },
  {
   "cell_type": "code",
   "execution_count": null,
   "metadata": {},
   "outputs": [],
   "source": [
    "# Define case name and root directory\n",
    "name = \"coastal_events\"\n",
    "pwd = Path().resolve()  # Get the current file location\n",
    "case_root = Path(pwd, \"cases\", name)  # output directory"
   ]
  },
  {
   "cell_type": "code",
   "execution_count": null,
   "metadata": {},
   "outputs": [],
   "source": [
    "# Setup the configuration\n",
    "config = WorkflowConfig(\n",
    "    region=Path(pwd, \"data/build/region.geojson\"),\n",
    "    gtsm_catalog=Path(cache_dir, \"data_catalog.yml\"),\n",
    "    start_time=\"2014-01-01\",\n",
    "    end_time=\"2021-12-31\",\n",
    "    rps=[2, 5, 10],\n",
    ")\n",
    "\n",
    "wf = Workflow(config=config, name=name, root=case_root)\n"
   ]
  },
  {
   "cell_type": "code",
   "execution_count": null,
   "metadata": {},
   "outputs": [],
   "source": [
    "# Get the GTSM data\n",
    "get_gtsm_data = coastal.GetGTSMData(\n",
    "    gtsm_catalog=wf.get_ref(\"$config.gtsm_catalog\"),\n",
    "    start_time=wf.get_ref(\"$config.start_time\"),\n",
    "    end_time=wf.get_ref(\"$config.end_time\"),\n",
    "    region=wf.get_ref(\"$config.region\"),\n",
    "    data_root=\"data/gtsm\",\n",
    ")\n",
    "wf.create_rule(get_gtsm_data, rule_id=\"get_gtsm_data\")\n"
   ]
  },
  {
   "cell_type": "code",
   "execution_count": null,
   "metadata": {},
   "outputs": [],
   "source": [
    "# Generate coastal design events\n",
    "coastal_design_events = coastal.CoastalDesignEvents(\n",
    "    surge_timeseries=get_gtsm_data.output.surge_nc,\n",
    "    tide_timeseries=get_gtsm_data.output.tide_nc,\n",
    "    bnd_locations=get_gtsm_data.output.bnd_locations,\n",
    "    rps=wf.get_ref(\"$config.rps\"),\n",
    "    event_root=\"data/events\",\n",
    ")\n",
    "wf.create_rule(coastal_design_events, rule_id=\"coastal_design_events\")\n"
   ]
  },
  {
   "cell_type": "code",
   "execution_count": null,
   "metadata": {},
   "outputs": [],
   "source": [
    "# Test the workflow\n",
    "wf.dryrun()\n"
   ]
  },
  {
   "cell_type": "code",
   "execution_count": null,
   "metadata": {},
   "outputs": [],
   "source": [
    "# Write the workflow to a Snakefile\n",
    "wf.to_snakemake()\n",
    "\n",
    "# show the files in the case directory\n",
    "print(f\"{wf.root.relative_to(pwd)}:\")\n",
    "for f in wf.root.iterdir():\n",
    "    print(f\"- {f.name}\")"
   ]
  },
  {
   "cell_type": "code",
   "execution_count": null,
   "metadata": {},
   "outputs": [],
   "source": [
    "from IPython.display import SVG\n",
    "\n",
    "# (test) run the workflow with snakemake and visualize the directed acyclic graph\n",
    "# make sure to have snakemake installed in your environment\n",
    "subprocess.run('snakemake --dag | dot -Tsvg > dag.svg', cwd=wf.root, shell=True).check_returncode()\n",
    "\n",
    "# show the dag\n",
    "SVG(Path(wf.root, \"dag.svg\").as_posix())"
   ]
  },
  {
   "cell_type": "code",
   "execution_count": null,
   "metadata": {},
   "outputs": [],
   "source": []
  }
 ],
 "metadata": {
  "kernelspec": {
   "display_name": "hydroflows",
   "language": "python",
   "name": "python3"
  },
  "language_info": {
   "codemirror_mode": {
    "name": "ipython",
    "version": 3
   },
   "file_extension": ".py",
   "mimetype": "text/x-python",
   "name": "python",
   "nbconvert_exporter": "python",
   "pygments_lexer": "ipython3",
   "version": "3.11.10"
  }
 },
 "nbformat": 4,
 "nbformat_minor": 2
}
