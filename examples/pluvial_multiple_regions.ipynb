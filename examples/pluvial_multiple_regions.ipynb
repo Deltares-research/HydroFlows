{
 "cells": [
  {
   "cell_type": "markdown",
   "metadata": {},
   "source": [
    "# Large scale flood hazard (multiple regions)"
   ]
  },
  {
   "cell_type": "code",
   "execution_count": null,
   "metadata": {},
   "outputs": [],
   "source": [
    "# Import modules\n",
    "import subprocess\n",
    "from pathlib import Path\n",
    "\n",
    "from hydroflows.log import setuplog\n",
    "from hydroflows.methods import rainfall, sfincs\n",
    "from hydroflows.utils.example_data import fetch_data\n",
    "from hydroflows.workflow import Workflow, WorkflowConfig\n",
    "\n",
    "logger = setuplog(level=\"INFO\")\n"
   ]
  },
  {
   "cell_type": "code",
   "execution_count": null,
   "metadata": {},
   "outputs": [],
   "source": [
    "# Fetch the build data\n",
    "cache_dir = fetch_data(data=\"global-data\")"
   ]
  },
  {
   "cell_type": "code",
   "execution_count": null,
   "metadata": {},
   "outputs": [],
   "source": [
    "# Define case name and root directory\n",
    "name = \"pluvial_multiple_regions\"\n",
    "pwd = Path().resolve()  # Get the current file location\n",
    "case_root = Path(pwd, \"cases\", name)  # output directory"
   ]
  },
  {
   "cell_type": "code",
   "execution_count": null,
   "metadata": {},
   "outputs": [],
   "source": [
    "# Setup the configuration\n",
    "config = WorkflowConfig(\n",
    "    config=Path(pwd, \"hydromt_config/sfincs_config.yml\"),\n",
    "    catalog_path=Path(cache_dir, \"data_catalog.yml\"),\n",
    "    sfincs_exe=Path(pwd, \"../bin/sfincs_v2.1.1/sfincs.exe\"),\n",
    "    start_date=\"2014-01-01\",\n",
    "    end_date=\"2021-12-31\",\n",
    "    # sfincs settings\n",
    "    hydromt_sfincs_config=Path(pwd, \"hydromt_config/sfincs_config.yml\"),\n",
    "    subgrid_output=True,\n",
    "    # design event settings\n",
    "    rps=[2, 5, 10],\n",
    ")"
   ]
  },
  {
   "cell_type": "code",
   "execution_count": null,
   "metadata": {},
   "outputs": [],
   "source": [
    "# Setup the workflow\n",
    "wf = Workflow(\n",
    "    config=config,\n",
    "    wildcards={\"region\": [\"region\", \"region2\"]},\n",
    "    name=name,\n",
    "    root=case_root,\n",
    ")"
   ]
  },
  {
   "cell_type": "code",
   "execution_count": null,
   "metadata": {},
   "outputs": [],
   "source": [
    "# Build the SFINCS models\n",
    "sfincs_build = sfincs.SfincsBuild(\n",
    "    region=\"../../data/build/{region}.geojson\",  # NOTE: case in sub-subfolder of pwd\n",
    "    sfincs_root=\"models/sfincs/{region}\",\n",
    "    config=wf.get_ref(\"$config.hydromt_sfincs_config\"),\n",
    "    catalog_path=wf.get_ref(\"$config.catalog_path\"),\n",
    "    subgrid_output=wf.get_ref(\"$config.subgrid_output\"),\n",
    "    )\n",
    "wf.create_rule(sfincs_build, \"sfincs_build\")\n"
   ]
  },
  {
   "cell_type": "code",
   "execution_count": null,
   "metadata": {},
   "outputs": [],
   "source": [
    "# Get Rainfall timeseries\n",
    "get_rainfall = rainfall.GetERA5Rainfall(\n",
    "    region=sfincs_build.output.sfincs_region,\n",
    "    output_dir=\"data/era5/{region}\",\n",
    "    start_date=wf.get_ref(\"$config.start_date\"),\n",
    "    end_date=wf.get_ref(\"$config.end_date\"),\n",
    ")\n",
    "wf.create_rule(get_rainfall, rule_id=\"get_rainfall\")\n"
   ]
  },
  {
   "cell_type": "code",
   "execution_count": null,
   "metadata": {},
   "outputs": [],
   "source": [
    "# Derive pluvial events from rainfall data\n",
    "pluvial_events = rainfall.PluvialDesignEvents(\n",
    "    precip_nc=get_rainfall.output.precip_nc,\n",
    "    event_root=\"data/events/{region}\",\n",
    "    rps=wf.get_ref(\"$config.rps\"),\n",
    "    wildcard=\"pluvial_events\",\n",
    ")\n",
    "wf.create_rule(pluvial_events, rule_id=\"pluvial_events\")\n"
   ]
  },
  {
   "cell_type": "code",
   "execution_count": null,
   "metadata": {},
   "outputs": [],
   "source": [
    "# Update the SFINCS models\n",
    "sfincs_update = sfincs.SfincsUpdateForcing(\n",
    "    sfincs_inp=sfincs_build.output.sfincs_inp,\n",
    "    event_yaml=pluvial_events.output.event_yaml,\n",
    "    event_name=\"{pluvial_events}\",\n",
    "    output_dir=sfincs_build.output.sfincs_inp.parent/\"simulations\"/\"{region}\"\n",
    ")\n",
    "wf.create_rule(sfincs_update, rule_id=\"sfincs_update\")\n"
   ]
  },
  {
   "cell_type": "code",
   "execution_count": null,
   "metadata": {},
   "outputs": [],
   "source": [
    "# simulate and downscale pluvial flood maps\n",
    "\n",
    "# Run SFINCS model\n",
    "sfincs_run = sfincs.SfincsRun(\n",
    "    sfincs_inp=sfincs_update.output.sfincs_out_inp,\n",
    "    sfincs_exe=wf.get_ref(\"$config.sfincs_exe\"),\n",
    ")\n",
    "wf.create_rule(sfincs_run, rule_id=\"sfincs_run\")\n",
    "\n",
    "# Post process the results from pluvial events\n",
    "sfincs_post = sfincs.SfincsDownscale(\n",
    "    sfincs_map=sfincs_run.output.sfincs_map,\n",
    "    sfincs_subgrid_dep=sfincs_build.output.sfincs_subgrid_dep,\n",
    "    output_root=\"output/{region}\",\n",
    ")\n",
    "wf.create_rule(sfincs_post, \"sfincs_post\")\n"
   ]
  },
  {
   "cell_type": "code",
   "execution_count": null,
   "metadata": {},
   "outputs": [],
   "source": [
    "# Do a dry run of the workflow\n",
    "wf.dryrun()"
   ]
  },
  {
   "cell_type": "code",
   "execution_count": null,
   "metadata": {},
   "outputs": [],
   "source": [
    "# Write the workflow to a Snakefile and snakefile.config.yml\n",
    "wf.to_snakemake()\n",
    "\n",
    "# show the files in the case directory\n",
    "print(f\"{wf.root.relative_to(pwd)}:\")\n",
    "for f in wf.root.iterdir():\n",
    "    print(f\"- {f.name}\")"
   ]
  },
  {
   "cell_type": "code",
   "execution_count": null,
   "metadata": {},
   "outputs": [],
   "source": [
    "from IPython.display import SVG\n",
    "\n",
    "# (test) run the workflow with snakemake and visualize the directed acyclic graph\n",
    "# make sure to have snakemake installed in your environment\n",
    "subprocess.run('snakemake --dag | dot -Tsvg > dag.svg', cwd=wf.root, shell=True).check_returncode()\n",
    "\n",
    "# show the dag\n",
    "SVG(Path(wf.root, \"dag.svg\").as_posix())"
   ]
  },
  {
   "cell_type": "code",
   "execution_count": null,
   "metadata": {},
   "outputs": [],
   "source": [
    "# uncomment to run the workflow\n",
    "# subprocess.run([\"snakemake\", \"-c\", \"1\"], cwd=wf.root)"
   ]
  }
 ],
 "metadata": {
  "kernelspec": {
   "display_name": "Python 3",
   "language": "python",
   "name": "python3"
  },
  "language_info": {
   "codemirror_mode": {
    "name": "ipython",
    "version": 3
   },
   "file_extension": ".py",
   "mimetype": "text/x-python",
   "name": "python",
   "nbconvert_exporter": "python",
   "pygments_lexer": "ipython3",
   "version": "undefined.undefined.undefined"
  }
 },
 "nbformat": 4,
 "nbformat_minor": 2
}
