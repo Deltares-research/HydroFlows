{
 "cells": [
  {
   "cell_type": "code",
   "execution_count": null,
   "metadata": {},
   "outputs": [],
   "source": [
    "# Import modules\n",
    "import subprocess\n",
    "from pathlib import Path\n",
    "\n",
    "from hydroflows.methods.rainfall import GetERA5Rainfall, PluvialDesignEvents\n",
    "from hydroflows.methods.sfincs import (\n",
    "    SfincsBuild,\n",
    "    SfincsDownscale,\n",
    "    SfincsRun,\n",
    "    SfincsUpdateForcing,\n",
    ")\n",
    "from hydroflows.utils.example_data import fetch_data\n",
    "from hydroflows.workflow import Workflow, WorkflowConfig\n",
    "\n",
    "# Where the file is currently located\n",
    "pwd = Path(__file__).parent\n"
   ]
  },
  {
   "cell_type": "code",
   "execution_count": null,
   "metadata": {},
   "outputs": [],
   "source": [
    "# Fetch the build data\n",
    "cache_dir = fetch_data(data=\"global-data\")\n",
    "\n",
    "# Setup workflow settings and configuration\n",
    "name = \"pluvial_multiple_regions\"\n",
    "case_root = Path(pwd, \"cases\", name)\n",
    "\n",
    "# Setup the configuration\n",
    "config = WorkflowConfig(\n",
    "    config=Path(pwd, \"hydromt_config/sfincs_config.yml\"),\n",
    "    data_libs=[Path(cache_dir, \"data_catalog.yml\")],\n",
    "    sfincs_exe=Path(pwd, \"../bin/sfincs_v2.1.1/sfincs.exe\"),\n",
    "    start_date=\"2014-01-01\",\n",
    "    end_date=\"2021-12-31\",\n",
    "    # sfincs settings\n",
    "    hydromt_sfincs_config=Path(pwd, \"hydromt_config/sfincs_config.yml\"),\n",
    "    # design event settings\n",
    "    rps=[2, 5, 10],\n",
    ")\n"
   ]
  },
  {
   "cell_type": "code",
   "execution_count": null,
   "metadata": {},
   "outputs": [],
   "source": [
    "# Setup the workflow\n",
    "w = Workflow(\n",
    "    config=config,\n",
    "    wildcards={\"region\": [\"region\", \"region2\"]},\n",
    "    name=name,\n",
    "    root=case_root,\n",
    ")\n"
   ]
  },
  {
   "cell_type": "code",
   "execution_count": null,
   "metadata": {},
   "outputs": [],
   "source": [
    "# Build the SFINCS models\n",
    "sfincs_build = SfincsBuild(\n",
    "    region=\"../../data/build/{region}.geojson\",  # NOTE: case in sub-subfolder of pwd\n",
    "    sfincs_root=\"models/sfincs/{region}\",\n",
    "    default_config=w.get_ref(\"$config.hydromt_sfincs_config\"),\n",
    "    data_libs=w.get_ref(\"$config.data_libs\"),\n",
    ")\n",
    "w.add_rule(sfincs_build, \"sfincs_build\")\n"
   ]
  },
  {
   "cell_type": "code",
   "execution_count": null,
   "metadata": {},
   "outputs": [],
   "source": [
    "# Get Rainfall timeseries\n",
    "get_rainfall = GetERA5Rainfall(\n",
    "    region=sfincs_build.output.sfincs_region,\n",
    "    data_root=\"data/era5/{region}\",\n",
    "    start_date=w.get_ref(\"$config.start_date\"),\n",
    "    end_date=w.get_ref(\"$config.end_date\"),\n",
    ")\n",
    "w.add_rule(get_rainfall, rule_id=\"get_rainfall\")\n"
   ]
  },
  {
   "cell_type": "code",
   "execution_count": null,
   "metadata": {},
   "outputs": [],
   "source": [
    "# Derive pluvial events from rainfall data\n",
    "pluvial_events = PluvialDesignEvents(\n",
    "    precip_nc=get_rainfall.output.precip_nc,\n",
    "    event_root=\"data/events/{region}\",\n",
    "    rps=w.get_ref(\"$config.rps\"),\n",
    "    wildcard=\"pluvial_events\",\n",
    ")\n",
    "w.add_rule(pluvial_events, rule_id=\"pluvial_events\")\n"
   ]
  },
  {
   "cell_type": "code",
   "execution_count": null,
   "metadata": {},
   "outputs": [],
   "source": [
    "# Update the SFINCS models\n",
    "sfincs_update = SfincsUpdateForcing(\n",
    "    sfincs_inp=sfincs_build.output.sfincs_inp,\n",
    "    event_yaml=pluvial_events.output.event_yaml,\n",
    "    event_name=\"{pluvial_events}\",\n",
    ")\n",
    "w.add_rule(sfincs_update, rule_id=\"sfincs_update\")\n"
   ]
  },
  {
   "cell_type": "code",
   "execution_count": null,
   "metadata": {},
   "outputs": [],
   "source": [
    "# Run SFINCS model\n",
    "sfincs_run = SfincsRun(\n",
    "    sfincs_inp=sfincs_update.output.sfincs_out_inp,\n",
    "    sfincs_exe=w.get_ref(\"$config.sfincs_exe\"),\n",
    ")\n",
    "w.add_rule(sfincs_run, rule_id=\"sfincs_run\")\n",
    "\n",
    "# Post process the results from pluvial events\n",
    "sfincs_post = SfincsDownscale(\n",
    "    sfincs_map=sfincs_run.output.sfincs_map,\n",
    "    sfincs_subgrid_dep=sfincs_build.output.sfincs_subgrid_dep,\n",
    "    output_root=\"output/{region}\",\n",
    ")\n",
    "w.add_rule(sfincs_post, \"sfincs_post\")\n"
   ]
  },
  {
   "cell_type": "code",
   "execution_count": null,
   "metadata": {},
   "outputs": [],
   "source": [
    "# Do a dry run of the workflow\n",
    "w.dryrun()\n"
   ]
  },
  {
   "cell_type": "code",
   "execution_count": null,
   "metadata": {},
   "outputs": [],
   "source": [
    "# Write the workflow to a Snakefile\n",
    "w.to_snakemake()\n"
   ]
  },
  {
   "cell_type": "code",
   "execution_count": null,
   "metadata": {},
   "outputs": [],
   "source": [
    "# (test) run the workflow with snakemake\n",
    "# test snakefile\n",
    "subprocess.run([\"snakemake\", \"-n\"], cwd=w.root)\n",
    "# uncomment to run the workflow\n",
    "# subprocess.run([\"snakemake\", \"-s\"], cwd=w.root)\n"
   ]
  }
 ],
 "metadata": {
  "language_info": {
   "codemirror_mode": {
    "name": "ipython",
    "version": 3
   },
   "file_extension": ".py",
   "mimetype": "text/x-python",
   "name": "python",
   "nbconvert_exporter": "python",
   "pygments_lexer": "ipython3",
   "version": 3
  }
 },
 "nbformat": 4,
 "nbformat_minor": 2
}
