{
 "cells": [
  {
   "cell_type": "markdown",
   "metadata": {},
   "source": [
    "# Large scale flood hazard (multiple regions)"
   ]
  },
  {
   "cell_type": "markdown",
   "metadata": {},
   "source": [
    "This example shows a workflow to derive pluvial and fluvial flood risk using the Wflow, SFINCS and Delft-FIAT models. The goal of the example is to show **how to scale the flood hazard to multiple model domains**. For more details about each step we refer the user to the pluvial flood risk example."
   ]
  },
  {
   "cell_type": "code",
   "execution_count": null,
   "metadata": {},
   "outputs": [],
   "source": [
    "# Import modules\n",
    "from pathlib import Path\n",
    "\n",
    "from hydroflows.log import setuplog\n",
    "from hydroflows.methods import rainfall, sfincs\n",
    "from hydroflows.utils.example_data import fetch_data\n",
    "from hydroflows.workflow import Workflow, WorkflowConfig\n",
    "\n",
    "logger = setuplog(level=\"INFO\")\n"
   ]
  },
  {
   "cell_type": "code",
   "execution_count": null,
   "metadata": {},
   "outputs": [],
   "source": [
    "# Define case name and root directory\n",
    "name = \"pluvial_multiple_regions\"\n",
    "pwd = Path().resolve()  # Get the current file location\n",
    "case_root = Path(pwd, \"cases\", name)  # output directory\n",
    "pwd_rel = \"../../\"  # relative path from the case directory to the current file\n"
   ]
  },
  {
   "cell_type": "markdown",
   "metadata": {},
   "source": [
    "## Workflow inputs"
   ]
  },
  {
   "cell_type": "code",
   "execution_count": null,
   "metadata": {},
   "outputs": [],
   "source": [
    "# Fetch the build data\n",
    "cache_dir = fetch_data(data=\"global-data\")"
   ]
  },
  {
   "cell_type": "code",
   "execution_count": null,
   "metadata": {},
   "outputs": [],
   "source": [
    "# Setup the configuration\n",
    "config = WorkflowConfig(\n",
    "    config=Path(pwd_rel, \"hydromt_config/sfincs_config.yml\"),\n",
    "    catalog_path=Path(cache_dir, \"data_catalog.yml\"),\n",
    "    sfincs_exe=Path(pwd_rel, \"../bin/sfincs_v2.1.1/sfincs.exe\"),\n",
    "    start_date=\"2014-01-01\",\n",
    "    end_date=\"2021-12-31\",\n",
    "    # sfincs settings\n",
    "    hydromt_sfincs_config=Path(pwd_rel, \"hydromt_config/sfincs_config.yml\"),\n",
    "    subgrid_output=True,\n",
    "    # design event settings\n",
    "    rps=[2, 5, 10],\n",
    ")"
   ]
  },
  {
   "cell_type": "markdown",
   "metadata": {},
   "source": [
    "## Create the workflow\n",
    "\n",
    "Note that we initialize the workflow with a region wildcard to create flood hazard for multiple regions."
   ]
  },
  {
   "cell_type": "code",
   "execution_count": null,
   "metadata": {},
   "outputs": [],
   "source": [
    "# Setup the workflow\n",
    "wf = Workflow(\n",
    "    config=config,\n",
    "    wildcards={\"region\": [\"region\", \"region2\"]},\n",
    "    name=name,\n",
    "    root=case_root,\n",
    ")"
   ]
  },
  {
   "cell_type": "markdown",
   "metadata": {},
   "source": [
    "### Build models\n",
    "\n",
    "In this section we build SFINCS models for multiple regions. Note that we use the ``{region}`` wildcard on the in- and outputs of each method. The method will be executed for each input region."
   ]
  },
  {
   "cell_type": "code",
   "execution_count": null,
   "metadata": {},
   "outputs": [],
   "source": [
    "# Build the SFINCS models\n",
    "sfincs_build = sfincs.SfincsBuild(\n",
    "    region=Path(pwd_rel, \"data/build/{region}.geojson\"),  # input region\n",
    "    sfincs_root=\"models/sfincs/{region}\",  # output model directory\n",
    "    config=wf.get_ref(\"$config.hydromt_sfincs_config\"),\n",
    "    catalog_path=wf.get_ref(\"$config.catalog_path\"),\n",
    "    subgrid_output=wf.get_ref(\"$config.subgrid_output\"),\n",
    "    )\n",
    "wf.create_rule(sfincs_build, \"sfincs_build\")\n"
   ]
  },
  {
   "cell_type": "markdown",
   "metadata": {},
   "source": [
    "### Derive pluvial design events"
   ]
  },
  {
   "cell_type": "code",
   "execution_count": null,
   "metadata": {},
   "outputs": [],
   "source": [
    "pluvial_events = rainfall.PluvialDesignEventsGPEX(\n",
    "    gpex_nc=Path(cache_dir, \"gpex.nc\"),  \n",
    "    region=sfincs_build.output.sfincs_region,\n",
    "    event_root=\"events/{region}\",\n",
    "    rps=wf.get_ref(\"$config.rps\"),\n",
    "    wildcard=\"events\", # wildcard to use for the pluvial events\n",
    ")\n",
    "\n",
    "# Note that a new \"events\" wildcard is created for the events\n",
    "wf.create_rule(pluvial_events, rule_id=\"pluvial_events\")\n"
   ]
  },
  {
   "cell_type": "markdown",
   "metadata": {},
   "source": [
    "### Derive flood hazard"
   ]
  },
  {
   "cell_type": "code",
   "execution_count": null,
   "metadata": {},
   "outputs": [],
   "source": [
    "# Update the SFINCS models\n",
    "sfincs_update = sfincs.SfincsUpdateForcing(\n",
    "    sfincs_inp=sfincs_build.output.sfincs_inp,\n",
    "    event_yaml=pluvial_events.output.event_yaml,\n",
    "    output_dir=sfincs_build.output.sfincs_inp.parent/\"simulations\"/\"{events}\",\n",
    ")\n",
    "wf.create_rule(sfincs_update, rule_id=\"sfincs_update\")\n",
    "\n",
    "# Run SFINCS model\n",
    "sfincs_run = sfincs.SfincsRun(\n",
    "    sfincs_inp=sfincs_update.output.sfincs_out_inp,\n",
    "    sfincs_exe=wf.get_ref(\"$config.sfincs_exe\"),\n",
    ")\n",
    "wf.create_rule(sfincs_run, rule_id=\"sfincs_run\")\n",
    "\n",
    "# Downscale the SFINCS waterlevels to high-resolution water\n",
    "sfincs_downscale = sfincs.SfincsDownscale(\n",
    "    sfincs_map=sfincs_run.output.sfincs_map,\n",
    "    sfincs_subgrid_dep=sfincs_build.output.sfincs_subgrid_dep,\n",
    "    output_root=\"output/hazard/{region}\",\n",
    ")\n",
    "wf.create_rule(sfincs_downscale, \"sfincs_downscale\")"
   ]
  },
  {
   "cell_type": "markdown",
   "metadata": {},
   "source": [
    "## Visualize and execute the workflow"
   ]
  },
  {
   "cell_type": "code",
   "execution_count": null,
   "metadata": {},
   "outputs": [],
   "source": [
    "# plot the rulegraph using graphviz\n",
    "wf.plot_rulegraph(filename=\"rulegraph.svg\", plot_rule_attrs=True)"
   ]
  },
  {
   "cell_type": "code",
   "execution_count": null,
   "metadata": {},
   "outputs": [],
   "source": [
    "# Do a dry run of the workflow\n",
    "wf.dryrun()"
   ]
  },
  {
   "cell_type": "code",
   "execution_count": null,
   "metadata": {},
   "outputs": [],
   "source": [
    "# Write the workflow to a Snakefile and snakefile.config.yml\n",
    "wf.to_snakemake()\n",
    "\n",
    "# show the files in the case directory\n",
    "print(f\"{wf.root.relative_to(pwd)}:\")\n",
    "for f in wf.root.iterdir():\n",
    "    print(f\"- {f.name}\")"
   ]
  },
  {
   "cell_type": "code",
   "execution_count": null,
   "metadata": {},
   "outputs": [],
   "source": [
    "# uncomment to run the workflow with snakemake\n",
    "# import subprocess\n",
    "# subprocess.run([\"snakemake\", \"-c\", \"1\"], cwd=wf.root)"
   ]
  }
 ],
 "metadata": {
  "kernelspec": {
   "display_name": "hydroflows",
   "language": "python",
   "name": "python3"
  },
  "language_info": {
   "codemirror_mode": {
    "name": "ipython",
    "version": 3
   },
   "file_extension": ".py",
   "mimetype": "text/x-python",
   "name": "python",
   "nbconvert_exporter": "python",
   "pygments_lexer": "ipython3",
   "version": "3.11.11"
  }
 },
 "nbformat": 4,
 "nbformat_minor": 2
}
