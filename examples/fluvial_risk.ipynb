{
 "cells": [
  {
   "cell_type": "markdown",
   "metadata": {},
   "source": [
    "# Fluvial flood risk\n",
    "\n",
    "This example shows a workflow to derive fluvial flood risk using the **Wflow**, **SFINCS** and **Delft-FIAT** models. The starting point is a user defined region and data catalog. Wflow simulated discharge is translated into hydrographs for different return periods and used to simulate the flood hazard maps. The hazard maps are combined with exposure and impact data to derive risk."
   ]
  },
  {
   "cell_type": "code",
   "execution_count": null,
   "metadata": {},
   "outputs": [],
   "source": [
    "# Import packages\n",
    "from pathlib import Path\n",
    "\n",
    "from hydroflows import Workflow, WorkflowConfig\n",
    "from hydroflows.log import setuplog\n",
    "from hydroflows.methods import discharge, fiat, sfincs, wflow\n",
    "from hydroflows.utils.example_data import fetch_data\n",
    "\n",
    "logger = setuplog(level=\"INFO\")"
   ]
  },
  {
   "cell_type": "code",
   "execution_count": null,
   "metadata": {},
   "outputs": [],
   "source": [
    "# Define case name and root directory\n",
    "name = \"fluvial_risk\"\n",
    "pwd = Path().resolve()  # Get the current file location\n",
    "case_root = Path(pwd, \"cases\", name)  # output directory\n",
    "pwd_rel = \"../../\"  # relative path from the case directory to the current file"
   ]
  },
  {
   "cell_type": "markdown",
   "metadata": {},
   "source": [
    "## Workflow inputs\n",
    "\n",
    "The example requires the following inputs which are provided via a configuration file:\n",
    "- a user defined region that can be used to delineate the SFINCS model domain\n",
    "- a data catalog file describing all input datasets. Here we fetch some test datasets for a region in Northern Italy.  \n",
    "- HydroMT configuration files for all three models\n",
    "- model executables (docker is also possible for SFINCS and Wflow)"
   ]
  },
  {
   "cell_type": "code",
   "execution_count": null,
   "metadata": {},
   "outputs": [],
   "source": [
    "# Fetch the global build data\n",
    "cache_dir = fetch_data(data=\"global-data\")"
   ]
  },
  {
   "cell_type": "code",
   "execution_count": null,
   "metadata": {},
   "outputs": [],
   "source": [
    "# Setup the configuration\n",
    "config = WorkflowConfig(\n",
    "    # general settings\n",
    "    region=Path(pwd_rel, \"data/build/region.geojson\"),\n",
    "    catalog_path=Path(cache_dir, \"data_catalog.yml\"),\n",
    "    plot_fig=True,\n",
    "    start_date=\"2014-01-01\",\n",
    "    end_date=\"2021-12-31\",\n",
    "    # sfincs settings\n",
    "    hydromt_sfincs_config=Path(pwd_rel, \"hydromt_config/sfincs_config.yml\"),\n",
    "    sfincs_exe=Path(pwd_rel, \"bin/sfincs_v2.1.1/sfincs.exe\"),\n",
    "    depth_min=0.05,  # minimum depth for inundation map\n",
    "    # fiat settings\n",
    "    hydromt_fiat_config=Path(pwd_rel, \"hydromt_config/fiat_config.yml\"),\n",
    "    fiat_exe=Path(pwd_rel, \"bin/fiat_v0.2.0/fiat.exe\"),\n",
    "    # wflow settings\n",
    "    hydromt_wflow_config=Path(pwd_rel, \"hydromt_config/wflow_config.yml\"),\n",
    "    wflow_exe=Path(pwd_rel, \"bin/wflow_v0.8.1/bin/wflow_cli.exe\"),\n",
    "    # design event settings\n",
    "    rps=[2, 5, 10, 50, 100],\n",
    ")\n"
   ]
  },
  {
   "cell_type": "markdown",
   "metadata": {},
   "source": [
    "## Create the workflow"
   ]
  },
  {
   "cell_type": "code",
   "execution_count": null,
   "metadata": {},
   "outputs": [],
   "source": [
    "# create and empty workflow\n",
    "wf = Workflow(name=name, config=config, root=case_root)"
   ]
  },
  {
   "cell_type": "markdown",
   "metadata": {},
   "source": [
    "### Build models\n",
    "\n",
    "In this section we build a model cascade and make sure these are configured correctly for offline coupling, i.e. Wflow exports discharge at the right locations and Delft-FIAT uses the same ground elevation as SFINCS. Note that you can also skip these steps and use your own models instead."
   ]
  },
  {
   "cell_type": "markdown",
   "metadata": {},
   "source": [
    "First, we build a **SFINCS** model for the user defined region using. \n",
    " - setting from the hydromt_sfincs_config, see the [HydroMT-SFINCS docs](https://deltares.github.io/hydromt_sfincs/latest/) for more info.\n",
    " - data from the catalog_path, see the [HydroMT docs](https://deltares.github.io/hydromt/v0.10.0/user_guide/data_prepare_cat.html) for more info.\n",
    " - Note that we need src points at the boundary of the SFINCS model (``src_points_output=True``) to get Wflow output at the right locations. Make sure the hydromt_sfincs configuration defines these source locations.\n"
   ]
  },
  {
   "cell_type": "code",
   "execution_count": null,
   "metadata": {},
   "outputs": [],
   "source": [
    "# Build a SFINCS model\n",
    "sfincs_build = sfincs.SfincsBuild(\n",
    "    region=wf.get_ref(\"$config.region\"),\n",
    "    config=wf.get_ref(\"$config.hydromt_sfincs_config\"),\n",
    "    sfincs_root=\"models/sfincs\",\n",
    "    catalog_path=wf.get_ref(\"$config.catalog_path\"),\n",
    "    plot_fig=wf.get_ref(\"$config.plot_fig\"),\n",
    "    subgrid_output=True,\n",
    "    src_points_output=True,\n",
    ")\n",
    "wf.create_rule(sfincs_build, rule_id=\"sfincs_build\")"
   ]
  },
  {
   "cell_type": "markdown",
   "metadata": {},
   "source": [
    "Next we build a **Wflow** model using:\n",
    "- the sfincs_build output for the model region\n",
    "- \"gauges\" based on SFINCS source points\n",
    "- settings from the hydromt_wflow_config, see [HydroMT-Wflow docs](https://deltares.github.io/hydromt_wflow/latest/) \n",
    "- data from the data catalog"
   ]
  },
  {
   "cell_type": "code",
   "execution_count": null,
   "metadata": {},
   "outputs": [],
   "source": [
    "# Build a Wflow model\n",
    "wflow_build = wflow.WflowBuild(\n",
    "    region=sfincs_build.output.sfincs_region,\n",
    "    config=wf.get_ref(\"$config.hydromt_wflow_config\"),\n",
    "    wflow_root=\"models/wflow\",\n",
    "    catalog_path=wf.get_ref(\"$config.catalog_path\"),\n",
    "    gauges=sfincs_build.output.sfincs_src_points,\n",
    "    plot_fig=wf.get_ref(\"$config.plot_fig\"),\n",
    ")\n",
    "wf.create_rule(wflow_build, rule_id=\"wflow_build\")\n"
   ]
  },
  {
   "cell_type": "markdown",
   "metadata": {},
   "source": [
    "Next, we build a **FIAT** model using:\n",
    "- the sfincs_build output for the model region and ground elevation\n",
    "- settings from the hydromt_fiat_config, see the [hydromt_fiat docs](https://deltares.github.io/hydromt_fiat/latest/)\n",
    "- data from the data catalog"
   ]
  },
  {
   "cell_type": "code",
   "execution_count": null,
   "metadata": {},
   "outputs": [],
   "source": [
    "# Build a FIAT model\n",
    "fiat_build = fiat.FIATBuild(\n",
    "    region=sfincs_build.output.sfincs_region,\n",
    "    ground_elevation=sfincs_build.output.sfincs_subgrid_dep,\n",
    "    fiat_root=\"models/fiat\",\n",
    "    catalog_path=wf.get_ref(\"$config.catalog_path\"),\n",
    "    config=wf.get_ref(\"$config.hydromt_fiat_config\"),\n",
    ")\n",
    "wf.create_rule(fiat_build, rule_id=\"fiat_build\")"
   ]
  },
  {
   "cell_type": "markdown",
   "metadata": {},
   "source": [
    "### Derive fluvial design events from Wflow\n",
    "\n",
    "In this section we derive fluvial design events for each Wflow output gauge location.\n",
    "First, we update and run Wflow to simulate discharge for the present climate. \n",
    "Then, we derive design hydrographs for a number of return periods from discharge time series. By default, the magnitude and shape of these events are based on the annual maxima peaks from the timeseries. \n",
    "\n",
    "Note that in case of multiple discharge boundary locations this approach assumes full dependence which might be an oversimplification of the reality."
   ]
  },
  {
   "cell_type": "code",
   "execution_count": null,
   "metadata": {},
   "outputs": [],
   "source": [
    "# Update Wflow meteorological forcing for the simulation period\n",
    "wflow_update = wflow.WflowUpdateForcing(\n",
    "    wflow_toml=wflow_build.output.wflow_toml,\n",
    "    catalog_path=wf.get_ref(\"$config.catalog_path\"),\n",
    "    start_time=wf.get_ref(\"$config.start_date\"),\n",
    "    end_time=wf.get_ref(\"$config.end_date\"),\n",
    "    output_dir=wflow_build.output.wflow_toml.parent/\"simulations\"/\"default\"\n",
    ")\n",
    "wf.create_rule(wflow_update, rule_id=\"wflow_update\")"
   ]
  },
  {
   "cell_type": "code",
   "execution_count": null,
   "metadata": {},
   "outputs": [],
   "source": [
    "# Run the wflow model for a continuous simulation setup in the wflow_update rule\n",
    "wflow_run = wflow.WflowRun(\n",
    "    wflow_toml=wflow_update.output.wflow_out_toml,\n",
    "    wflow_bin=wf.get_ref(\"$config.wflow_exe\"),\n",
    "    run_method=\"exe\",  # alternatively use \"docker\" or \"julia\"\n",
    ")\n",
    "wf.create_rule(wflow_run, rule_id=\"wflow_run\")"
   ]
  },
  {
   "cell_type": "code",
   "execution_count": null,
   "metadata": {},
   "outputs": [],
   "source": [
    "# Derive fluvial design events\n",
    "# Checkout the FluvialDesignEvents parameters for many options\n",
    "fluvial_events = discharge.FluvialDesignEvents(\n",
    "    discharge_nc=wflow_run.output.wflow_output_timeseries,\n",
    "    rps=wf.get_ref(\"$config.rps\"),\n",
    "    event_root=\"input/events\",\n",
    "    index_dim=\"Q_gauges_bounds\",\n",
    "    wildcard=\"events\",\n",
    ")\n",
    "\n",
    "# Note that a new wildcard is created for the fluvial events\n",
    "wf.create_rule(fluvial_events, rule_id=\"fluvial_events\")"
   ]
  },
  {
   "cell_type": "markdown",
   "metadata": {},
   "source": [
    "### Derive flood hazard"
   ]
  },
  {
   "cell_type": "markdown",
   "metadata": {},
   "source": [
    "To derive flood hazard maps for each event, we \n",
    "1. Update the SFINCS model using the discharge event timeseries. This will create new SFINCS instances for each event.\n",
    "2. Run the SFINCS model. This will create simulated water levels for each event.\n",
    "3. Postprocess the SFINCS output. This will postprocess the SFINCS results to a regular grid of maximum water levels.\n",
    "4. Optionally, downscale the SFINCS output. This will downscale the max simulated SFINCS water levels to a high-res flood depth map."
   ]
  },
  {
   "cell_type": "code",
   "execution_count": null,
   "metadata": {},
   "outputs": [],
   "source": [
    "# Update the SFINCS model with fluvial events\n",
    "sfincs_update = sfincs.SfincsUpdateForcing(\n",
    "    sfincs_inp=sfincs_build.output.sfincs_inp,\n",
    "    event_yaml=fluvial_events.output.event_yaml,\n",
    "    output_dir=sfincs_build.output.sfincs_inp.parent/\"simulations\"/\"{events}\"\n",
    ")\n",
    "wf.create_rule(sfincs_update, rule_id=\"sfincs_update\")"
   ]
  },
  {
   "cell_type": "code",
   "execution_count": null,
   "metadata": {},
   "outputs": [],
   "source": [
    "# Run the SFINCS model for each fluvial event\n",
    "sfincs_run = sfincs.SfincsRun(\n",
    "    sfincs_inp=sfincs_update.output.sfincs_out_inp,\n",
    "    sfincs_exe=wf.get_ref(\"$config.sfincs_exe\"),\n",
    ")\n",
    "wf.create_rule(sfincs_run, rule_id=\"sfincs_run\")"
   ]
  },
  {
   "cell_type": "code",
   "execution_count": null,
   "metadata": {},
   "outputs": [],
   "source": [
    "# Postprocesses SFINCS results to a regular grid of maximum water levels\n",
    "sfincs_post = sfincs.SfincsPostprocess(\n",
    "    sfincs_map=sfincs_run.output.sfincs_map,\n",
    ")\n",
    "wf.create_rule(sfincs_post, rule_id=\"sfincs_post\")"
   ]
  },
  {
   "cell_type": "code",
   "execution_count": null,
   "metadata": {},
   "outputs": [],
   "source": [
    "# Optionally, downscale the SFINCS output to derive high-res flood hazard maps\n",
    "sfincs_downscale = sfincs.SfincsDownscale(\n",
    "    sfincs_map=sfincs_run.output.sfincs_map,\n",
    "    sfincs_subgrid_dep=sfincs_build.output.sfincs_subgrid_dep,\n",
    "    depth_min=wf.get_ref(\"$config.depth_min\"),\n",
    "    output_root=\"output/hazard\",\n",
    ")\n",
    "wf.create_rule(sfincs_downscale, rule_id=\"sfincs_downscale\")"
   ]
  },
  {
   "cell_type": "markdown",
   "metadata": {},
   "source": [
    "## Derive flood risk"
   ]
  },
  {
   "cell_type": "markdown",
   "metadata": {},
   "source": [
    "To calculate flood risk, we \n",
    "- Update Delft-FIAT with *all fluvial events* which are combined in an event set. This will create a new Delft-FIAT instance for the event set.\n",
    "- Run Delft-FIAT to calculate flood impact and risk. This will create impact and risk data at the individual and aggregated asset level.\n",
    "- Visualize the risk results at the aggregated asset level.\n"
   ]
  },
  {
   "cell_type": "code",
   "execution_count": null,
   "metadata": {},
   "outputs": [],
   "source": [
    "# Update FIAT hazard forcing with the fluvial eventset to compute fluvial flood risk\n",
    "fiat_update = fiat.FIATUpdateHazard(\n",
    "    fiat_cfg=fiat_build.output.fiat_cfg,\n",
    "    event_set_yaml=fluvial_events.output.event_set_yaml,\n",
    "    map_type=\"water_level\",\n",
    "    hazard_maps=sfincs_post.output.sfincs_zsmax,\n",
    "    risk=True,\n",
    "    output_dir=fiat_build.output.fiat_cfg.parent/\"simulations\"\n",
    ")\n",
    "wf.create_rule(fiat_update, rule_id=\"fiat_update\")"
   ]
  },
  {
   "cell_type": "code",
   "execution_count": null,
   "metadata": {},
   "outputs": [],
   "source": [
    "# Run FIAT to compute pluvial flood risk\n",
    "fiat_run = fiat.FIATRun(\n",
    "    fiat_cfg=fiat_update.output.fiat_out_cfg,\n",
    "    fiat_exe=wf.get_ref(\"$config.fiat_exe\"),\n",
    ")\n",
    "wf.create_rule(fiat_run, rule_id=\"fiat_run\")"
   ]
  },
  {
   "cell_type": "code",
   "execution_count": null,
   "metadata": {},
   "outputs": [],
   "source": [
    "# Visualize Fiat \n",
    "fiat_visualize = fiat.FIATVisualize(\n",
    "    fiat_cfg=fiat_update.output.fiat_out_cfg,\n",
    "    fiat_output_csv=fiat_run.output.fiat_out_csv,\n",
    "    spatial_joins_cfg=fiat_build.output.spatial_joins_cfg,\n",
    "    output_dir=\"output/risk\"\n",
    ")\n",
    "wf.create_rule(fiat_visualize, rule_id=\"fiat_visualize\")"
   ]
  },
  {
   "cell_type": "markdown",
   "metadata": {},
   "source": [
    "## Visualize and execute the workflow\n",
    "\n",
    "To inspect the workflow we can plot the rulegraph which shows all rules their dependencies.\n",
    "The nodes are colored based on the type, for instance the red nodes show the result rules."
   ]
  },
  {
   "cell_type": "code",
   "execution_count": null,
   "metadata": {},
   "outputs": [],
   "source": [
    "# plot the rulegraph using graphviz\n",
    "wf.plot_rulegraph(filename=\"rulegraph.svg\", plot_rule_attrs=True)"
   ]
  },
  {
   "cell_type": "code",
   "execution_count": null,
   "metadata": {},
   "outputs": [],
   "source": [
    "# dryrun workflow. Make sure no warnings are raised\n",
    "wf.dryrun()"
   ]
  },
  {
   "cell_type": "markdown",
   "metadata": {},
   "source": [
    "The workflow can be executed using HydroFlows or a workflow engine. \n",
    "To run the workflow in HydroFlows use ``wf.run()``. \n",
    "To run the workflow with SnakeMake (preferred) use ``wf.to_snakemake()`` to create a snakemake file, see below.\n",
    "You can then use the Snakemake CLI to execute the workflow, see the [snakemake documentation](https://snakemake.readthedocs.io/en/stable/executing/cli.html)"
   ]
  },
  {
   "cell_type": "code",
   "execution_count": null,
   "metadata": {},
   "outputs": [],
   "source": [
    "# Write the workflow to a Snakefile and snakefile.config.yml\n",
    "wf.to_snakemake()\n",
    "\n",
    "# show the files in the case directory\n",
    "print(f\"{wf.root.relative_to(pwd)}:\")\n",
    "for f in wf.root.iterdir():\n",
    "    print(f\"- {f.name}\")"
   ]
  },
  {
   "cell_type": "code",
   "execution_count": null,
   "metadata": {},
   "outputs": [],
   "source": [
    "# uncomment to run the workflow\n",
    "# import subprocess\n",
    "# subprocess.run([\"snakemake\", \"-c\", \"1\"], cwd=wf.root)"
   ]
  }
 ],
 "metadata": {
  "kernelspec": {
   "display_name": "hydroflows",
   "language": "python",
   "name": "python3"
  },
  "language_info": {
   "codemirror_mode": {
    "name": "ipython",
    "version": 3
   },
   "file_extension": ".py",
   "mimetype": "text/x-python",
   "name": "python",
   "nbconvert_exporter": "python",
   "pygments_lexer": "ipython3",
   "version": "3.11.11"
  }
 },
 "nbformat": 4,
 "nbformat_minor": 2
}
