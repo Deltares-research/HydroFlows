{
 "cells": [
  {
   "cell_type": "code",
   "execution_count": null,
   "metadata": {},
   "outputs": [],
   "source": [
    "# Import packages\n",
    "import subprocess\n",
    "from pathlib import Path\n",
    "\n",
    "from hydroflows import Workflow\n",
    "from hydroflows.methods.discharge import FluvialDesignEvents\n",
    "from hydroflows.methods.sfincs import (\n",
    "    SfincsBuild,\n",
    "    SfincsDownscale,\n",
    "    SfincsRun,\n",
    "    SfincsUpdateForcing,\n",
    ")\n",
    "from hydroflows.methods.wflow import (\n",
    "    WflowBuild,\n",
    "    WflowRun,\n",
    "    WflowUpdateForcing,\n",
    ")\n",
    "from hydroflows.utils.example_data import fetch_data\n",
    "from hydroflows.workflow.workflow_config import WorkflowConfig\n"
   ]
  },
  {
   "cell_type": "code",
   "execution_count": null,
   "metadata": {},
   "outputs": [],
   "source": [
    "# Get current file location\n",
    "pwd = Path(__file__).parent\n"
   ]
  },
  {
   "cell_type": "code",
   "execution_count": null,
   "metadata": {},
   "outputs": [],
   "source": [
    "# Fetch the global build data (uncomment to fetch data required to run the workflow)\n",
    "cache_dir = fetch_data(data=\"global-data\")\n"
   ]
  },
  {
   "cell_type": "code",
   "execution_count": null,
   "metadata": {},
   "outputs": [],
   "source": [
    "# Define variables\n",
    "name = \"fluvial_hazard\"\n",
    "case_root = Path(pwd, \"cases\", name)\n"
   ]
  },
  {
   "cell_type": "code",
   "execution_count": null,
   "metadata": {},
   "outputs": [],
   "source": [
    "# Setup the configuration\n",
    "config = WorkflowConfig(\n",
    "    # general settings\n",
    "    region=Path(pwd, \"data/build/region.geojson\"),\n",
    "    data_libs=[Path(cache_dir, \"data_catalog.yml\")],\n",
    "    plot_fig=True,\n",
    "    start_date=\"2014-01-01\",\n",
    "    end_date=\"2021-12-31\",\n",
    "    # sfincs settings\n",
    "    hydromt_sfincs_config=Path(pwd, \"hydromt_config/sfincs_config.yml\"),\n",
    "    sfincs_exe=Path(pwd, \"bin/sfincs_v2.1.1/sfincs.exe\"),\n",
    "    sfincs_res=50,\n",
    "    river_upa=10,\n",
    "    depth_min=0.05,\n",
    "    # wflow settings\n",
    "    hydromt_wflow_config=Path(pwd, \"hydromt_config/wflow_config.yml\"),\n",
    "    wflow_exe=Path(pwd, \"bin/wflow_v0.8.1/bin/wflow_cli.exe\"),\n",
    "    # design event settings\n",
    "    rps=[2, 5, 10],\n",
    ")\n"
   ]
  },
  {
   "cell_type": "code",
   "execution_count": null,
   "metadata": {},
   "outputs": [],
   "source": [
    "# setup the workflow\n",
    "w = Workflow(name=\"fluvial_hazard\", config=config, root=case_root)\n"
   ]
  },
  {
   "cell_type": "code",
   "execution_count": null,
   "metadata": {},
   "outputs": [],
   "source": [
    "# Build SFINCS model\n",
    "sfincs_build = SfincsBuild(\n",
    "    region=w.get_ref(\"$config.region\"),\n",
    "    sfincs_root=\"models/sfincs\",\n",
    "    default_config=w.get_ref(\"$config.hydromt_sfincs_config\"),\n",
    "    data_libs=w.get_ref(\"$config.data_libs\"),\n",
    "    res=w.get_ref(\"$config.sfincs_res\"),\n",
    "    river_upa=w.get_ref(\"$config.river_upa\"),\n",
    "    plot_fig=w.get_ref(\"$config.plot_fig\"),\n",
    ")\n",
    "w.add_rule(sfincs_build, rule_id=\"sfincs_build\")\n"
   ]
  },
  {
   "cell_type": "code",
   "execution_count": null,
   "metadata": {},
   "outputs": [],
   "source": [
    "# Build wflow model\n",
    "wflow_build = WflowBuild(\n",
    "    region=sfincs_build.output.sfincs_region,\n",
    "    wflow_root=\"models/wflow\",\n",
    "    default_config=w.get_ref(\"$config.hydromt_wflow_config\"),\n",
    "    data_libs=w.get_ref(\"$config.data_libs\"),\n",
    "    gauges=Path(sfincs_build.params.sfincs_root, \"gis\", \"src.geojson\"),\n",
    "    plot_fig=w.get_ref(\"$config.plot_fig\"),\n",
    ")\n",
    "w.add_rule(wflow_build, rule_id=\"wflow_build\")\n"
   ]
  },
  {
   "cell_type": "code",
   "execution_count": null,
   "metadata": {},
   "outputs": [],
   "source": [
    "# Update forcing & run wflow model\n",
    "wflow_update = WflowUpdateForcing(\n",
    "    wflow_toml=wflow_build.output.wflow_toml,\n",
    "    data_libs=w.get_ref(\"$config.data_libs\"),\n",
    "    start_time=w.get_ref(\"$config.start_date\"),\n",
    "    end_time=w.get_ref(\"$config.end_date\"),\n",
    ")\n",
    "w.add_rule(wflow_update, rule_id=\"wflow_update\")\n"
   ]
  },
  {
   "cell_type": "code",
   "execution_count": null,
   "metadata": {},
   "outputs": [],
   "source": [
    "# Run the wflow model\n",
    "wflow_run = WflowRun(\n",
    "    wflow_toml=wflow_update.output.wflow_out_toml,\n",
    "    wflow_bin=w.get_ref(\"$config.wflow_exe\"),\n",
    ")\n",
    "w.add_rule(wflow_run, rule_id=\"wflow_run\")\n"
   ]
  },
  {
   "cell_type": "code",
   "execution_count": null,
   "metadata": {},
   "outputs": [],
   "source": [
    "# Derive fluvial design events\n",
    "fluvial_events = FluvialDesignEvents(\n",
    "    discharge_nc=wflow_run.output.wflow_output_timeseries,\n",
    "    rps=w.get_ref(\"$config.rps\"),\n",
    "    wildcard=\"fluvial_events\",\n",
    "    event_root=\"input/events\",\n",
    "    index_dim=\"Q_gauges_bounds\",\n",
    ")\n",
    "w.add_rule(fluvial_events, rule_id=\"fluvial_events\")\n"
   ]
  },
  {
   "cell_type": "code",
   "execution_count": null,
   "metadata": {},
   "outputs": [],
   "source": [
    "# Prepare sfincs models per event, run & postprocess\n",
    "sfincs_update = SfincsUpdateForcing(\n",
    "    sfincs_inp=sfincs_build.output.sfincs_inp,\n",
    "    event_yaml=fluvial_events.output.event_yaml,\n",
    ")\n",
    "w.add_rule(sfincs_update, rule_id=\"sfincs_update\")\n"
   ]
  },
  {
   "cell_type": "code",
   "execution_count": null,
   "metadata": {},
   "outputs": [],
   "source": [
    "# Run the Sfincs model(s)\n",
    "sfincs_run = SfincsRun(\n",
    "    sfincs_inp=sfincs_update.output.sfincs_out_inp,\n",
    "    sfincs_exe=w.get_ref(\"$config.sfincs_exe\"),\n",
    ")\n",
    "w.add_rule(sfincs_run, rule_id=\"sfincs_run\")\n"
   ]
  },
  {
   "cell_type": "code",
   "execution_count": null,
   "metadata": {},
   "outputs": [],
   "source": [
    "# Postprocess the sfincs output\n",
    "sfincs_post = SfincsDownscale(\n",
    "    sfincs_map=sfincs_run.output.sfincs_map,\n",
    "    sfincs_subgrid_dep=sfincs_build.output.sfincs_subgrid_dep,\n",
    "    depth_min=w.get_ref(\"$config.depth_min\"),\n",
    "    output_root=\"output/hazard\",\n",
    "    event_name=\"{fluvial_events}\",\n",
    ")\n",
    "w.add_rule(sfincs_post, rule_id=\"sfincs_post\")\n"
   ]
  },
  {
   "cell_type": "code",
   "execution_count": null,
   "metadata": {},
   "outputs": [],
   "source": [
    "# Test the workflow\n",
    "w.dryrun()\n"
   ]
  },
  {
   "cell_type": "code",
   "execution_count": null,
   "metadata": {},
   "outputs": [],
   "source": [
    "# Write the workflow to a Snakefile\n",
    "w.to_snakemake()\n"
   ]
  },
  {
   "cell_type": "code",
   "execution_count": null,
   "metadata": {},
   "outputs": [],
   "source": [
    "# (test) run the workflow with snakemake\n",
    "subprocess.run([\"snakemake\", \"-n\"], cwd=w.root)\n",
    "# uncomment to run the workflow\n",
    "# subprocess.run([\"snakemake\", \"-c 1\"], cwd=w.root)\n"
   ]
  }
 ],
 "metadata": {
  "language_info": {
   "codemirror_mode": {
    "name": "ipython",
    "version": 3
   },
   "file_extension": ".py",
   "mimetype": "text/x-python",
   "name": "python",
   "nbconvert_exporter": "python",
   "pygments_lexer": "ipython3",
   "version": 3
  }
 },
 "nbformat": 4,
 "nbformat_minor": 2
}
