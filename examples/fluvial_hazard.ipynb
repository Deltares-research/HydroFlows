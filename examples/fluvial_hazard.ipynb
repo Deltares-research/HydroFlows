{
 "cells": [
  {
   "cell_type": "code",
   "execution_count": null,
   "metadata": {},
   "outputs": [],
   "source": [
    "# Import packages\n",
    "import subprocess\n",
    "from pathlib import Path\n",
    "\n",
    "from hydroflows import Workflow, WorkflowConfig\n",
    "from hydroflows.log import setuplog\n",
    "from hydroflows.methods import discharge, sfincs, wflow\n",
    "from hydroflows.utils.example_data import fetch_data\n",
    "\n",
    "logger = setuplog(level=\"INFO\")"
   ]
  },
  {
   "cell_type": "code",
   "execution_count": null,
   "metadata": {},
   "outputs": [],
   "source": [
    "# Fetch the global build data\n",
    "cache_dir = fetch_data(data=\"global-data\")"
   ]
  },
  {
   "cell_type": "code",
   "execution_count": null,
   "metadata": {},
   "outputs": [],
   "source": [
    "# Define case name and root directory\n",
    "name = \"fluvial_hazard\"\n",
    "pwd = Path().resolve()  # Get the current file location\n",
    "case_root = Path(pwd, \"cases\", name)  # output directory"
   ]
  },
  {
   "cell_type": "code",
   "execution_count": null,
   "metadata": {},
   "outputs": [],
   "source": [
    "# Setup the configuration\n",
    "config = WorkflowConfig(\n",
    "    # general settings\n",
    "    region=Path(pwd, \"data/build/region.geojson\"),\n",
    "    catalog_path=Path(cache_dir, \"data_catalog.yml\"),\n",
    "    plot_fig=True,\n",
    "    start_date=\"2014-01-01\",\n",
    "    end_date=\"2021-12-31\",\n",
    "    # sfincs settings\n",
    "    hydromt_sfincs_config=Path(pwd, \"hydromt_config/sfincs_config.yml\"),\n",
    "    sfincs_exe=Path(pwd, \"bin/sfincs_v2.1.1/sfincs.exe\"),\n",
    "    depth_min=0.05,  # minimum depth for inundation map\n",
    "    subgrid_output=True,\n",
    "    src_points_output=True,\n",
    "    # wflow settings\n",
    "    hydromt_wflow_config=Path(pwd, \"hydromt_config/wflow_config.yml\"),\n",
    "    wflow_exe=Path(pwd, \"bin/wflow_v0.8.1/bin/wflow_cli.exe\"),\n",
    "    # design event settings\n",
    "    rps=[2, 5, 10],\n",
    ")\n"
   ]
  },
  {
   "cell_type": "code",
   "execution_count": null,
   "metadata": {},
   "outputs": [],
   "source": [
    "# create and empty workflow\n",
    "w = Workflow(name=name, config=config, root=case_root)"
   ]
  },
  {
   "cell_type": "code",
   "execution_count": null,
   "metadata": {},
   "outputs": [],
   "source": [
    "# Build SFINCS model\n",
    "sfincs_build = sfincs.SfincsBuild(\n",
    "    region=w.get_ref(\"$config.region\"),\n",
    "    config=w.get_ref(\"$config.hydromt_sfincs_config\"),\n",
    "    sfincs_root=\"models/sfincs\",\n",
    "    catalog_path=w.get_ref(\"$config.catalog_path\"),\n",
    "    plot_fig=w.get_ref(\"$config.plot_fig\"),\n",
    "    subgrid_output=w.get_ref(\"$config.subgrid_output\"),\n",
    "    src_points_output=w.get_ref(\"$config.src_points_output\"),\n",
    ")\n",
    "w.create_rule(sfincs_build, rule_id=\"sfincs_build\")"
   ]
  },
  {
   "cell_type": "code",
   "execution_count": null,
   "metadata": {},
   "outputs": [],
   "source": [
    "# Build wflow model\n",
    "# additional \"gauges\" are created at sfincs discharge source points\n",
    "wflow_build = wflow.WflowBuild(\n",
    "    region=sfincs_build.output.sfincs_region,\n",
    "    config=w.get_ref(\"$config.hydromt_wflow_config\"),\n",
    "    wflow_root=\"models/wflow\",\n",
    "    catalog_path=w.get_ref(\"$config.catalog_path\"),\n",
    "    gauges=sfincs_build.output.sfincs_src_points,\n",
    "    plot_fig=w.get_ref(\"$config.plot_fig\"),\n",
    ")\n",
    "w.create_rule(wflow_build, rule_id=\"wflow_build\")\n"
   ]
  },
  {
   "cell_type": "code",
   "execution_count": null,
   "metadata": {},
   "outputs": [],
   "source": [
    "# Update forcing & run wflow model\n",
    "wflow_update = wflow.WflowUpdateForcing(\n",
    "    wflow_toml=wflow_build.output.wflow_toml,\n",
    "    catalog_path=w.get_ref(\"$config.catalog_path\"),\n",
    "    start_time=w.get_ref(\"$config.start_date\"),\n",
    "    end_time=w.get_ref(\"$config.end_date\"),\n",
    "    output_dir=wflow_build.output.wflow_toml.parent/\"simulations\"/\"default\"\n",
    ")\n",
    "w.create_rule(wflow_update, rule_id=\"wflow_update\")"
   ]
  },
  {
   "cell_type": "code",
   "execution_count": null,
   "metadata": {},
   "outputs": [],
   "source": [
    "# Run the wflow model\n",
    "wflow_run = wflow.WflowRun(\n",
    "    wflow_toml=wflow_update.output.wflow_out_toml,\n",
    "    wflow_bin=w.get_ref(\"$config.wflow_exe\"),\n",
    ")\n",
    "w.create_rule(wflow_run, rule_id=\"wflow_run\")"
   ]
  },
  {
   "cell_type": "code",
   "execution_count": null,
   "metadata": {},
   "outputs": [],
   "source": [
    "# Derive fluvial design events\n",
    "fluvial_events = discharge.FluvialDesignEvents(\n",
    "    discharge_nc=wflow_run.output.wflow_output_timeseries,\n",
    "    rps=w.get_ref(\"$config.rps\"),\n",
    "    wildcard=\"fluvial_events\",\n",
    "    event_root=\"input/events\",\n",
    "    index_dim=\"Q_gauges_bounds\",\n",
    ")\n",
    "w.create_rule(fluvial_events, rule_id=\"fluvial_events\")"
   ]
  },
  {
   "cell_type": "code",
   "execution_count": null,
   "metadata": {},
   "outputs": [],
   "source": [
    "# Prepare sfincs models per event, run & postprocess\n",
    "sfincs_update = sfincs.SfincsUpdateForcing(\n",
    "    sfincs_inp=sfincs_build.output.sfincs_inp,\n",
    "    event_yaml=fluvial_events.output.event_yaml,\n",
    "    output_dir=sfincs_build.output.sfincs_inp.parent/\"simulations\"/\"{fluvial_events}\"\n",
    ")\n",
    "w.create_rule(sfincs_update, rule_id=\"sfincs_update\")"
   ]
  },
  {
   "cell_type": "code",
   "execution_count": null,
   "metadata": {},
   "outputs": [],
   "source": [
    "# Run the Sfincs model(s)\n",
    "sfincs_run = sfincs.SfincsRun(\n",
    "    sfincs_inp=sfincs_update.output.sfincs_out_inp,\n",
    "    sfincs_exe=w.get_ref(\"$config.sfincs_exe\"),\n",
    ")\n",
    "w.create_rule(sfincs_run, rule_id=\"sfincs_run\")"
   ]
  },
  {
   "cell_type": "code",
   "execution_count": null,
   "metadata": {},
   "outputs": [],
   "source": [
    "# Postprocess the sfincs output\n",
    "sfincs_post = sfincs.SfincsDownscale(\n",
    "    sfincs_map=sfincs_run.output.sfincs_map,\n",
    "    sfincs_subgrid_dep=sfincs_build.output.sfincs_subgrid_dep,\n",
    "    depth_min=w.get_ref(\"$config.depth_min\"),\n",
    "    output_root=\"output/hazard\",\n",
    "    event_name=\"{fluvial_events}\",\n",
    ")\n",
    "w.create_rule(sfincs_post, rule_id=\"sfincs_post\")"
   ]
  },
  {
   "cell_type": "code",
   "execution_count": null,
   "metadata": {},
   "outputs": [],
   "source": [
    "# Test the workflow\n",
    "w.dryrun()"
   ]
  },
  {
   "cell_type": "code",
   "execution_count": null,
   "metadata": {},
   "outputs": [],
   "source": [
    "# Write the workflow to a Snakefile and snakefile.config.yml\n",
    "w.to_snakemake()\n",
    "\n",
    "# show the top 25 lines of the Snakefile\n",
    "with open(w.root / \"Snakefile\", \"r\") as f:\n",
    "    for _ in range(25):\n",
    "        print(f.readline().strip('\\n'))"
   ]
  },
  {
   "cell_type": "code",
   "execution_count": null,
   "metadata": {},
   "outputs": [],
   "source": [
    "from IPython.display import SVG\n",
    "\n",
    "# (test) run the workflow with snakemake and visualize the directed acyclic graph\n",
    "# make sure to have snakemake installed in your environment\n",
    "subprocess.run('snakemake --dag | dot -Tsvg > dag.svg', cwd=w.root, shell=True).check_returncode()\n",
    "\n",
    "# show the dag\n",
    "SVG(Path(w.root, \"dag.svg\").as_posix())"
   ]
  },
  {
   "cell_type": "code",
   "execution_count": null,
   "metadata": {},
   "outputs": [],
   "source": [
    "# uncomment to run the workflow\n",
    "# subprocess.run([\"snakemake\", \"-c\", \"1\"], cwd=w.root)"
   ]
  }
 ],
 "metadata": {
  "kernelspec": {
   "display_name": "default",
   "language": "python",
   "name": "python3"
  },
  "language_info": {
   "codemirror_mode": {
    "name": "ipython",
    "version": 3
   },
   "file_extension": ".py",
   "mimetype": "text/x-python",
   "name": "python",
   "nbconvert_exporter": "python",
   "pygments_lexer": "ipython3",
   "version": "3.11.11"
  }
 },
 "nbformat": 4,
 "nbformat_minor": 2
}
