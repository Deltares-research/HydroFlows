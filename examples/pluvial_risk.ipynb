{
 "cells": [
  {
   "cell_type": "code",
   "execution_count": null,
   "metadata": {},
   "outputs": [],
   "source": [
    "# Import packages\n",
    "import os\n",
    "import subprocess\n",
    "from pathlib import Path\n",
    "\n",
    "from hydroflows.log import setuplog\n",
    "from hydroflows.methods.fiat import FIATBuild, FIATRun, FIATUpdateHazard\n",
    "from hydroflows.methods.rainfall import (\n",
    "    PluvialDesignEventsGPEX,\n",
    ")\n",
    "from hydroflows.methods.sfincs import (\n",
    "    SfincsBuild,\n",
    "    SfincsPostprocess,\n",
    "    SfincsRun,\n",
    "    SfincsUpdateForcing,\n",
    ")\n",
    "from hydroflows.utils.example_data import fetch_data\n",
    "from hydroflows.workflow import Workflow, WorkflowConfig\n",
    "\n",
    "# Where the current file is located\n",
    "pwd = Path(__file__).parent\n"
   ]
  },
  {
   "cell_type": "code",
   "execution_count": null,
   "metadata": {},
   "outputs": [],
   "source": [
    "# Fetch the global build data (uncomment to fetch data required to run the workflow)\n",
    "cache_dir = fetch_data(data=\"global-data\")\n"
   ]
  },
  {
   "cell_type": "code",
   "execution_count": null,
   "metadata": {},
   "outputs": [],
   "source": [
    "# General setup of workflow\n",
    "# Define variables\n",
    "name = \"pluvial_risk\"\n",
    "case_root = Path(pwd, \"cases\", name)\n",
    "# Create the case directory\n",
    "case_root.mkdir(exist_ok=True, parents=True)\n",
    "os.chdir(case_root)\n",
    "# Setup the log file\n",
    "setuplog(path=case_root / \"hydroflows.log\", level=\"DEBUG\")\n"
   ]
  },
  {
   "cell_type": "code",
   "execution_count": null,
   "metadata": {},
   "outputs": [],
   "source": [
    "# Setup the config file\n",
    "conf = WorkflowConfig(\n",
    "    # general settings\n",
    "    region=Path(pwd, \"data/build/region.geojson\"),\n",
    "    data_libs=[Path(cache_dir, \"data_catalog.yml\")],\n",
    "    start_date=\"2000-01-01\",\n",
    "    end_date=\"2021-12-31\",\n",
    "    plot_fig=True,\n",
    "    # sfincs settings\n",
    "    hydromt_sfincs_config=Path(pwd, \"hydromt_config/sfincs_config.yml\"),\n",
    "    sfincs_exe=Path(pwd, \"bin/sfincs_v2.1.1/sfincs.exe\"),\n",
    "    sfincs_res=50,\n",
    "    river_upa=10,\n",
    "    # fiat settings\n",
    "    hydromt_fiat_config=Path(pwd, \"hydromt_config/fiat_config.yml\"),\n",
    "    fiat_exe=Path(pwd, \"bin/fiat_v0.2.0/fiat.exe\"),\n",
    "    continent=\"Europe\",\n",
    "    risk=True,\n",
    "    # design events settings\n",
    "    rps=[10, 100],\n",
    ")\n"
   ]
  },
  {
   "cell_type": "code",
   "execution_count": null,
   "metadata": {},
   "outputs": [],
   "source": [
    "# Setup the workflow\n",
    "w = Workflow(config=conf)\n"
   ]
  },
  {
   "cell_type": "code",
   "execution_count": null,
   "metadata": {},
   "outputs": [],
   "source": [
    "# Sfincs build\n",
    "sfincs_build = SfincsBuild(\n",
    "    region=w.get_ref(\"$config.region\"),\n",
    "    sfincs_root=\"models/sfincs\",\n",
    "    default_config=w.get_ref(\"$config.hydromt_sfincs_config\"),\n",
    "    data_libs=w.get_ref(\"$config.data_libs\"),\n",
    "    res=w.get_ref(\"$config.sfincs_res\"),\n",
    "    river_upa=w.get_ref(\"$config.river_upa\"),\n",
    "    plot_fig=w.get_ref(\"$config.plot_fig\"),\n",
    ")\n",
    "w.add_rule(sfincs_build, rule_id=\"sfincs_build\")\n"
   ]
  },
  {
   "cell_type": "code",
   "execution_count": null,
   "metadata": {},
   "outputs": [],
   "source": [
    "# Fiat build\n",
    "fiat_build = FIATBuild(\n",
    "    region=sfincs_build.output.sfincs_region,\n",
    "    ground_elevation=sfincs_build.output.sfincs_subgrid_dep,\n",
    "    fiat_root=\"models/fiat\",\n",
    "    data_libs=w.get_ref(\"$config.data_libs\"),\n",
    "    config=w.get_ref(\"$config.hydromt_fiat_config\"),\n",
    "    continent=w.get_ref(\"$config.continent\"),\n",
    ")\n",
    "w.add_rule(fiat_build, rule_id=\"fiat_build\")\n"
   ]
  },
  {
   "cell_type": "code",
   "execution_count": null,
   "metadata": {},
   "outputs": [],
   "source": [
    "# Define pluvial events from GPEX\n",
    "pluvial_events = PluvialDesignEventsGPEX(\n",
    "    gpex_nc=conf.data_libs[0].parent / \"gpex.nc\",  # FIXME use hydromt.datacatalog\n",
    "    region=sfincs_build.output.sfincs_region,\n",
    "    event_root=\"data/events\",\n",
    "    rps=w.get_ref(\"$config.rps\"),\n",
    "    wildcard=\"pluvial_events\",\n",
    ")\n",
    "w.add_rule(pluvial_events, rule_id=\"pluvial_events\")\n"
   ]
  },
  {
   "cell_type": "code",
   "execution_count": null,
   "metadata": {},
   "outputs": [],
   "source": [
    "# Update the sfincs model with pluviual events\n",
    "sfincs_update = SfincsUpdateForcing(\n",
    "    sfincs_inp=sfincs_build.output.sfincs_inp,\n",
    "    event_yaml=pluvial_events.output.event_yaml,\n",
    ")\n",
    "w.add_rule(sfincs_update, rule_id=\"sfincs_update\")\n"
   ]
  },
  {
   "cell_type": "code",
   "execution_count": null,
   "metadata": {},
   "outputs": [],
   "source": [
    "# Run the sfincs model\n",
    "sfincs_run = SfincsRun(\n",
    "    sfincs_inp=sfincs_update.output.sfincs_out_inp,\n",
    "    sfincs_exe=w.get_ref(\"$config.sfincs_exe\"),\n",
    ")\n",
    "w.add_rule(sfincs_run, rule_id=\"sfincs_run\")\n"
   ]
  },
  {
   "cell_type": "code",
   "execution_count": null,
   "metadata": {},
   "outputs": [],
   "source": [
    "# Postprocesses SFINCS results\n",
    "sfincs_post = SfincsPostprocess(\n",
    "    sfincs_map=sfincs_run.output.sfincs_map,\n",
    ")\n",
    "w.add_rule(sfincs_post, rule_id=\"sfincs_post\")\n"
   ]
  },
  {
   "cell_type": "code",
   "execution_count": null,
   "metadata": {},
   "outputs": [],
   "source": [
    "# Update FIAT hazard\n",
    "fiat_update = FIATUpdateHazard(\n",
    "    fiat_cfg=fiat_build.output.fiat_cfg,\n",
    "    event_set_yaml=pluvial_events.output.event_set_yaml,\n",
    "    map_type=\"water_level\",\n",
    "    hazard_maps=sfincs_post.output.sfincs_zsmax,\n",
    "    risk=w.get_ref(\"$config.risk\"),\n",
    ")\n",
    "w.add_rule(fiat_update, rule_id=\"fiat_update\")\n",
    "\n",
    "# Run FIAT\n",
    "fiat_run = FIATRun(\n",
    "    fiat_cfg=fiat_update.output.fiat_out_cfg,\n",
    "    fiat_bin=w.get_ref(\"$config.fiat_exe\"),\n",
    ")\n",
    "w.add_rule(fiat_run, rule_id=\"fiat_run\")\n"
   ]
  },
  {
   "cell_type": "code",
   "execution_count": null,
   "metadata": {},
   "outputs": [],
   "source": [
    "# run workflow\n",
    "w.dryrun()\n"
   ]
  },
  {
   "cell_type": "code",
   "execution_count": null,
   "metadata": {},
   "outputs": [],
   "source": [
    "# to snakemake\n",
    "w.to_snakemake()\n"
   ]
  },
  {
   "cell_type": "code",
   "execution_count": null,
   "metadata": {},
   "outputs": [],
   "source": [
    "# (test) run the workflow with snakemake\n",
    "subprocess.run([\"snakemake\", \"-n\", \"--rerun-incomplete\"], cwd=w.root)\n",
    "# uncomment to run the workflow\n",
    "# subprocess.run([\"snakemake\", \"-c\", \"1\", \"--rerun-incomplete\"], cwd=w.root)\n"
   ]
  }
 ],
 "metadata": {
  "language_info": {
   "codemirror_mode": {
    "name": "ipython",
    "version": 3
   },
   "file_extension": ".py",
   "mimetype": "text/x-python",
   "name": "python",
   "nbconvert_exporter": "python",
   "pygments_lexer": "ipython3",
   "version": 3
  }
 },
 "nbformat": 4,
 "nbformat_minor": 2
}
